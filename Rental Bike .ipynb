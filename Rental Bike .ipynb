{
 "cells": [
  {
   "cell_type": "markdown",
   "id": "aafc8bec",
   "metadata": {},
   "source": [
    "Problem Statement:\n",
    "\n",
    "Develop a predictive model to estimate the bike rental count (`cnt`) based on the given dataset, considering factors such as date, time, season, weather conditions, and other relevant features."
   ]
  },
  {
   "cell_type": "markdown",
   "id": "93595262",
   "metadata": {},
   "source": [
    "Column Decsription : \n",
    "\n",
    "1. **instant:** Sequential record number.\n",
    "\n",
    "2. **dteday:** Date of the record in the format DD-MM-YYYY.\n",
    "\n",
    "3. **season:** Season when the record was made (1: spring, 2: summer, 3: fall, 4: winter).\n",
    "\n",
    "4. **yr:** Year of the record (0: 2011, 1: 2012).\n",
    "\n",
    "5. **mnth:** Month of the record (1 to 12).\n",
    "\n",
    "6. **hr:** Hour of the record (0 to 23).\n",
    "\n",
    "7. **holiday:** Binary indicator of whether it's a holiday (1) or not (0).\n",
    "\n",
    "8. **weekday:** Day of the week (0: Sunday, 1: Monday, ..., 6: Saturday).\n",
    "\n",
    "9. **workingday:** Binary indicator of whether it's a working day (1) or not (0).\n",
    "\n",
    "10. **weathersit:** Weather situation (1: clear, 2: mist/cloudy, 3: light rain/snow, 4: heavy rain/snow).\n",
    "\n",
    "11. **temp:** Normalized temperature on a scale of 0 to 1.\n",
    "\n",
    "12. **atemp:** Normalized \"feels-like\" temperature on a scale of 0 to 1.\n",
    "\n",
    "13. **hum:** Normalized humidity on a scale of 0 to 1.\n",
    "\n",
    "14. **windspeed:** Normalized wind speed on a scale of 0 to 1.\n",
    "\n",
    "15. **casual:** Count of casual bike rentals.\n",
    "\n",
    "16. **registered:** Count of registered bike rentals.\n",
    "\n",
    "17. **cnt:** Total count of bike rentals (casual + registered)."
   ]
  },
  {
   "cell_type": "markdown",
   "id": "1a5b87b9",
   "metadata": {},
   "source": [
    " hint by sir - remove register and casual "
   ]
  },
  {
   "cell_type": "code",
   "execution_count": 2,
   "id": "db24a3e0",
   "metadata": {},
   "outputs": [],
   "source": [
    "import warnings  # To handle warnings\n",
    "\n",
    "# Ignore warnings for cleaner output\n",
    "warnings.filterwarnings('ignore')\n",
    "\n",
    "# Import necessary libraries\n",
    "import pandas as pd  # For data manipulation and analysis\n",
    "import numpy as np   # For numerical operations\n",
    "import matplotlib.pyplot as plt  # For basic data visualization\n",
    "import seaborn as sns  # For enhanced data visualization\n",
    "\n",
    "# To display plots in the notebook\n",
    "%matplotlib inline"
   ]
  },
  {
   "cell_type": "code",
   "execution_count": 3,
   "id": "d79b078e",
   "metadata": {},
   "outputs": [],
   "source": [
    "path=r\"C:\\Users\\HP\\Downloads\\hour.csv\"\n",
    "df=pd.read_csv(path)"
   ]
  },
  {
   "cell_type": "code",
   "execution_count": 4,
   "id": "a49d3d7f",
   "metadata": {},
   "outputs": [
    {
     "data": {
      "text/html": [
       "<div>\n",
       "<style scoped>\n",
       "    .dataframe tbody tr th:only-of-type {\n",
       "        vertical-align: middle;\n",
       "    }\n",
       "\n",
       "    .dataframe tbody tr th {\n",
       "        vertical-align: top;\n",
       "    }\n",
       "\n",
       "    .dataframe thead th {\n",
       "        text-align: right;\n",
       "    }\n",
       "</style>\n",
       "<table border=\"1\" class=\"dataframe\">\n",
       "  <thead>\n",
       "    <tr style=\"text-align: right;\">\n",
       "      <th></th>\n",
       "      <th>instant</th>\n",
       "      <th>dteday</th>\n",
       "      <th>season</th>\n",
       "      <th>yr</th>\n",
       "      <th>mnth</th>\n",
       "      <th>hr</th>\n",
       "      <th>holiday</th>\n",
       "      <th>weekday</th>\n",
       "      <th>workingday</th>\n",
       "      <th>weathersit</th>\n",
       "      <th>temp</th>\n",
       "      <th>atemp</th>\n",
       "      <th>hum</th>\n",
       "      <th>windspeed</th>\n",
       "      <th>casual</th>\n",
       "      <th>registered</th>\n",
       "      <th>cnt</th>\n",
       "    </tr>\n",
       "  </thead>\n",
       "  <tbody>\n",
       "    <tr>\n",
       "      <th>0</th>\n",
       "      <td>1</td>\n",
       "      <td>2011-01-01</td>\n",
       "      <td>1</td>\n",
       "      <td>0</td>\n",
       "      <td>1</td>\n",
       "      <td>0</td>\n",
       "      <td>0</td>\n",
       "      <td>6</td>\n",
       "      <td>0</td>\n",
       "      <td>1</td>\n",
       "      <td>0.24</td>\n",
       "      <td>0.2879</td>\n",
       "      <td>0.81</td>\n",
       "      <td>0.0</td>\n",
       "      <td>3</td>\n",
       "      <td>13</td>\n",
       "      <td>16</td>\n",
       "    </tr>\n",
       "    <tr>\n",
       "      <th>1</th>\n",
       "      <td>2</td>\n",
       "      <td>2011-01-01</td>\n",
       "      <td>1</td>\n",
       "      <td>0</td>\n",
       "      <td>1</td>\n",
       "      <td>1</td>\n",
       "      <td>0</td>\n",
       "      <td>6</td>\n",
       "      <td>0</td>\n",
       "      <td>1</td>\n",
       "      <td>0.22</td>\n",
       "      <td>0.2727</td>\n",
       "      <td>0.80</td>\n",
       "      <td>0.0</td>\n",
       "      <td>8</td>\n",
       "      <td>32</td>\n",
       "      <td>40</td>\n",
       "    </tr>\n",
       "    <tr>\n",
       "      <th>2</th>\n",
       "      <td>3</td>\n",
       "      <td>2011-01-01</td>\n",
       "      <td>1</td>\n",
       "      <td>0</td>\n",
       "      <td>1</td>\n",
       "      <td>2</td>\n",
       "      <td>0</td>\n",
       "      <td>6</td>\n",
       "      <td>0</td>\n",
       "      <td>1</td>\n",
       "      <td>0.22</td>\n",
       "      <td>0.2727</td>\n",
       "      <td>0.80</td>\n",
       "      <td>0.0</td>\n",
       "      <td>5</td>\n",
       "      <td>27</td>\n",
       "      <td>32</td>\n",
       "    </tr>\n",
       "    <tr>\n",
       "      <th>3</th>\n",
       "      <td>4</td>\n",
       "      <td>2011-01-01</td>\n",
       "      <td>1</td>\n",
       "      <td>0</td>\n",
       "      <td>1</td>\n",
       "      <td>3</td>\n",
       "      <td>0</td>\n",
       "      <td>6</td>\n",
       "      <td>0</td>\n",
       "      <td>1</td>\n",
       "      <td>0.24</td>\n",
       "      <td>0.2879</td>\n",
       "      <td>0.75</td>\n",
       "      <td>0.0</td>\n",
       "      <td>3</td>\n",
       "      <td>10</td>\n",
       "      <td>13</td>\n",
       "    </tr>\n",
       "    <tr>\n",
       "      <th>4</th>\n",
       "      <td>5</td>\n",
       "      <td>2011-01-01</td>\n",
       "      <td>1</td>\n",
       "      <td>0</td>\n",
       "      <td>1</td>\n",
       "      <td>4</td>\n",
       "      <td>0</td>\n",
       "      <td>6</td>\n",
       "      <td>0</td>\n",
       "      <td>1</td>\n",
       "      <td>0.24</td>\n",
       "      <td>0.2879</td>\n",
       "      <td>0.75</td>\n",
       "      <td>0.0</td>\n",
       "      <td>0</td>\n",
       "      <td>1</td>\n",
       "      <td>1</td>\n",
       "    </tr>\n",
       "  </tbody>\n",
       "</table>\n",
       "</div>"
      ],
      "text/plain": [
       "   instant      dteday  season  yr  mnth  hr  holiday  weekday  workingday  \\\n",
       "0        1  2011-01-01       1   0     1   0        0        6           0   \n",
       "1        2  2011-01-01       1   0     1   1        0        6           0   \n",
       "2        3  2011-01-01       1   0     1   2        0        6           0   \n",
       "3        4  2011-01-01       1   0     1   3        0        6           0   \n",
       "4        5  2011-01-01       1   0     1   4        0        6           0   \n",
       "\n",
       "   weathersit  temp   atemp   hum  windspeed  casual  registered  cnt  \n",
       "0           1  0.24  0.2879  0.81        0.0       3          13   16  \n",
       "1           1  0.22  0.2727  0.80        0.0       8          32   40  \n",
       "2           1  0.22  0.2727  0.80        0.0       5          27   32  \n",
       "3           1  0.24  0.2879  0.75        0.0       3          10   13  \n",
       "4           1  0.24  0.2879  0.75        0.0       0           1    1  "
      ]
     },
     "execution_count": 4,
     "metadata": {},
     "output_type": "execute_result"
    }
   ],
   "source": [
    "df.head()"
   ]
  },
  {
   "cell_type": "code",
   "execution_count": 6,
   "id": "a213cacf",
   "metadata": {},
   "outputs": [
    {
     "name": "stdout",
     "output_type": "stream",
     "text": [
      "<class 'pandas.core.frame.DataFrame'>\n",
      "RangeIndex: 17379 entries, 0 to 17378\n",
      "Data columns (total 17 columns):\n",
      " #   Column      Non-Null Count  Dtype  \n",
      "---  ------      --------------  -----  \n",
      " 0   instant     17379 non-null  int64  \n",
      " 1   dteday      17379 non-null  object \n",
      " 2   season      17379 non-null  int64  \n",
      " 3   yr          17379 non-null  int64  \n",
      " 4   mnth        17379 non-null  int64  \n",
      " 5   hr          17379 non-null  int64  \n",
      " 6   holiday     17379 non-null  int64  \n",
      " 7   weekday     17379 non-null  int64  \n",
      " 8   workingday  17379 non-null  int64  \n",
      " 9   weathersit  17379 non-null  int64  \n",
      " 10  temp        17379 non-null  float64\n",
      " 11  atemp       17379 non-null  float64\n",
      " 12  hum         17379 non-null  float64\n",
      " 13  windspeed   17379 non-null  float64\n",
      " 14  casual      17379 non-null  int64  \n",
      " 15  registered  17379 non-null  int64  \n",
      " 16  cnt         17379 non-null  int64  \n",
      "dtypes: float64(4), int64(12), object(1)\n",
      "memory usage: 2.3+ MB\n"
     ]
    }
   ],
   "source": [
    "df.info()"
   ]
  },
  {
   "cell_type": "code",
   "execution_count": 7,
   "id": "4254e736",
   "metadata": {},
   "outputs": [
    {
     "data": {
      "text/html": [
       "<div>\n",
       "<style scoped>\n",
       "    .dataframe tbody tr th:only-of-type {\n",
       "        vertical-align: middle;\n",
       "    }\n",
       "\n",
       "    .dataframe tbody tr th {\n",
       "        vertical-align: top;\n",
       "    }\n",
       "\n",
       "    .dataframe thead th {\n",
       "        text-align: right;\n",
       "    }\n",
       "</style>\n",
       "<table border=\"1\" class=\"dataframe\">\n",
       "  <thead>\n",
       "    <tr style=\"text-align: right;\">\n",
       "      <th></th>\n",
       "      <th>instant</th>\n",
       "      <th>season</th>\n",
       "      <th>yr</th>\n",
       "      <th>mnth</th>\n",
       "      <th>hr</th>\n",
       "      <th>holiday</th>\n",
       "      <th>weekday</th>\n",
       "      <th>workingday</th>\n",
       "      <th>weathersit</th>\n",
       "      <th>temp</th>\n",
       "      <th>atemp</th>\n",
       "      <th>hum</th>\n",
       "      <th>windspeed</th>\n",
       "      <th>casual</th>\n",
       "      <th>registered</th>\n",
       "      <th>cnt</th>\n",
       "    </tr>\n",
       "  </thead>\n",
       "  <tbody>\n",
       "    <tr>\n",
       "      <th>count</th>\n",
       "      <td>17379.0000</td>\n",
       "      <td>17379.000000</td>\n",
       "      <td>17379.000000</td>\n",
       "      <td>17379.000000</td>\n",
       "      <td>17379.000000</td>\n",
       "      <td>17379.000000</td>\n",
       "      <td>17379.000000</td>\n",
       "      <td>17379.000000</td>\n",
       "      <td>17379.000000</td>\n",
       "      <td>17379.000000</td>\n",
       "      <td>17379.000000</td>\n",
       "      <td>17379.000000</td>\n",
       "      <td>17379.000000</td>\n",
       "      <td>17379.000000</td>\n",
       "      <td>17379.000000</td>\n",
       "      <td>17379.000000</td>\n",
       "    </tr>\n",
       "    <tr>\n",
       "      <th>mean</th>\n",
       "      <td>8690.0000</td>\n",
       "      <td>2.501640</td>\n",
       "      <td>0.502561</td>\n",
       "      <td>6.537775</td>\n",
       "      <td>11.546752</td>\n",
       "      <td>0.028770</td>\n",
       "      <td>3.003683</td>\n",
       "      <td>0.682721</td>\n",
       "      <td>1.425283</td>\n",
       "      <td>0.496987</td>\n",
       "      <td>0.475775</td>\n",
       "      <td>0.627229</td>\n",
       "      <td>0.190098</td>\n",
       "      <td>35.676218</td>\n",
       "      <td>153.786869</td>\n",
       "      <td>189.463088</td>\n",
       "    </tr>\n",
       "    <tr>\n",
       "      <th>std</th>\n",
       "      <td>5017.0295</td>\n",
       "      <td>1.106918</td>\n",
       "      <td>0.500008</td>\n",
       "      <td>3.438776</td>\n",
       "      <td>6.914405</td>\n",
       "      <td>0.167165</td>\n",
       "      <td>2.005771</td>\n",
       "      <td>0.465431</td>\n",
       "      <td>0.639357</td>\n",
       "      <td>0.192556</td>\n",
       "      <td>0.171850</td>\n",
       "      <td>0.192930</td>\n",
       "      <td>0.122340</td>\n",
       "      <td>49.305030</td>\n",
       "      <td>151.357286</td>\n",
       "      <td>181.387599</td>\n",
       "    </tr>\n",
       "    <tr>\n",
       "      <th>min</th>\n",
       "      <td>1.0000</td>\n",
       "      <td>1.000000</td>\n",
       "      <td>0.000000</td>\n",
       "      <td>1.000000</td>\n",
       "      <td>0.000000</td>\n",
       "      <td>0.000000</td>\n",
       "      <td>0.000000</td>\n",
       "      <td>0.000000</td>\n",
       "      <td>1.000000</td>\n",
       "      <td>0.020000</td>\n",
       "      <td>0.000000</td>\n",
       "      <td>0.000000</td>\n",
       "      <td>0.000000</td>\n",
       "      <td>0.000000</td>\n",
       "      <td>0.000000</td>\n",
       "      <td>1.000000</td>\n",
       "    </tr>\n",
       "    <tr>\n",
       "      <th>25%</th>\n",
       "      <td>4345.5000</td>\n",
       "      <td>2.000000</td>\n",
       "      <td>0.000000</td>\n",
       "      <td>4.000000</td>\n",
       "      <td>6.000000</td>\n",
       "      <td>0.000000</td>\n",
       "      <td>1.000000</td>\n",
       "      <td>0.000000</td>\n",
       "      <td>1.000000</td>\n",
       "      <td>0.340000</td>\n",
       "      <td>0.333300</td>\n",
       "      <td>0.480000</td>\n",
       "      <td>0.104500</td>\n",
       "      <td>4.000000</td>\n",
       "      <td>34.000000</td>\n",
       "      <td>40.000000</td>\n",
       "    </tr>\n",
       "    <tr>\n",
       "      <th>50%</th>\n",
       "      <td>8690.0000</td>\n",
       "      <td>3.000000</td>\n",
       "      <td>1.000000</td>\n",
       "      <td>7.000000</td>\n",
       "      <td>12.000000</td>\n",
       "      <td>0.000000</td>\n",
       "      <td>3.000000</td>\n",
       "      <td>1.000000</td>\n",
       "      <td>1.000000</td>\n",
       "      <td>0.500000</td>\n",
       "      <td>0.484800</td>\n",
       "      <td>0.630000</td>\n",
       "      <td>0.194000</td>\n",
       "      <td>17.000000</td>\n",
       "      <td>115.000000</td>\n",
       "      <td>142.000000</td>\n",
       "    </tr>\n",
       "    <tr>\n",
       "      <th>75%</th>\n",
       "      <td>13034.5000</td>\n",
       "      <td>3.000000</td>\n",
       "      <td>1.000000</td>\n",
       "      <td>10.000000</td>\n",
       "      <td>18.000000</td>\n",
       "      <td>0.000000</td>\n",
       "      <td>5.000000</td>\n",
       "      <td>1.000000</td>\n",
       "      <td>2.000000</td>\n",
       "      <td>0.660000</td>\n",
       "      <td>0.621200</td>\n",
       "      <td>0.780000</td>\n",
       "      <td>0.253700</td>\n",
       "      <td>48.000000</td>\n",
       "      <td>220.000000</td>\n",
       "      <td>281.000000</td>\n",
       "    </tr>\n",
       "    <tr>\n",
       "      <th>max</th>\n",
       "      <td>17379.0000</td>\n",
       "      <td>4.000000</td>\n",
       "      <td>1.000000</td>\n",
       "      <td>12.000000</td>\n",
       "      <td>23.000000</td>\n",
       "      <td>1.000000</td>\n",
       "      <td>6.000000</td>\n",
       "      <td>1.000000</td>\n",
       "      <td>4.000000</td>\n",
       "      <td>1.000000</td>\n",
       "      <td>1.000000</td>\n",
       "      <td>1.000000</td>\n",
       "      <td>0.850700</td>\n",
       "      <td>367.000000</td>\n",
       "      <td>886.000000</td>\n",
       "      <td>977.000000</td>\n",
       "    </tr>\n",
       "  </tbody>\n",
       "</table>\n",
       "</div>"
      ],
      "text/plain": [
       "          instant        season            yr          mnth            hr  \\\n",
       "count  17379.0000  17379.000000  17379.000000  17379.000000  17379.000000   \n",
       "mean    8690.0000      2.501640      0.502561      6.537775     11.546752   \n",
       "std     5017.0295      1.106918      0.500008      3.438776      6.914405   \n",
       "min        1.0000      1.000000      0.000000      1.000000      0.000000   \n",
       "25%     4345.5000      2.000000      0.000000      4.000000      6.000000   \n",
       "50%     8690.0000      3.000000      1.000000      7.000000     12.000000   \n",
       "75%    13034.5000      3.000000      1.000000     10.000000     18.000000   \n",
       "max    17379.0000      4.000000      1.000000     12.000000     23.000000   \n",
       "\n",
       "            holiday       weekday    workingday    weathersit          temp  \\\n",
       "count  17379.000000  17379.000000  17379.000000  17379.000000  17379.000000   \n",
       "mean       0.028770      3.003683      0.682721      1.425283      0.496987   \n",
       "std        0.167165      2.005771      0.465431      0.639357      0.192556   \n",
       "min        0.000000      0.000000      0.000000      1.000000      0.020000   \n",
       "25%        0.000000      1.000000      0.000000      1.000000      0.340000   \n",
       "50%        0.000000      3.000000      1.000000      1.000000      0.500000   \n",
       "75%        0.000000      5.000000      1.000000      2.000000      0.660000   \n",
       "max        1.000000      6.000000      1.000000      4.000000      1.000000   \n",
       "\n",
       "              atemp           hum     windspeed        casual    registered  \\\n",
       "count  17379.000000  17379.000000  17379.000000  17379.000000  17379.000000   \n",
       "mean       0.475775      0.627229      0.190098     35.676218    153.786869   \n",
       "std        0.171850      0.192930      0.122340     49.305030    151.357286   \n",
       "min        0.000000      0.000000      0.000000      0.000000      0.000000   \n",
       "25%        0.333300      0.480000      0.104500      4.000000     34.000000   \n",
       "50%        0.484800      0.630000      0.194000     17.000000    115.000000   \n",
       "75%        0.621200      0.780000      0.253700     48.000000    220.000000   \n",
       "max        1.000000      1.000000      0.850700    367.000000    886.000000   \n",
       "\n",
       "                cnt  \n",
       "count  17379.000000  \n",
       "mean     189.463088  \n",
       "std      181.387599  \n",
       "min        1.000000  \n",
       "25%       40.000000  \n",
       "50%      142.000000  \n",
       "75%      281.000000  \n",
       "max      977.000000  "
      ]
     },
     "execution_count": 7,
     "metadata": {},
     "output_type": "execute_result"
    }
   ],
   "source": [
    "df.describe()"
   ]
  },
  {
   "cell_type": "code",
   "execution_count": 8,
   "id": "ad48c3dd",
   "metadata": {},
   "outputs": [
    {
     "name": "stdout",
     "output_type": "stream",
     "text": [
      "instant                int64\n",
      "dteday        datetime64[ns]\n",
      "season              category\n",
      "yr                  category\n",
      "mnth                category\n",
      "hr                  category\n",
      "holiday             category\n",
      "weekday             category\n",
      "workingday          category\n",
      "weathersit          category\n",
      "temp                 float64\n",
      "atemp                float64\n",
      "hum                  float64\n",
      "windspeed            float64\n",
      "casual                 int64\n",
      "registered             int64\n",
      "cnt                    int64\n",
      "dtype: object\n"
     ]
    }
   ],
   "source": [
    "df['dteday'] = pd.to_datetime(df['dteday'])\n",
    "\n",
    "# Convert specified columns to category type\n",
    "category_columns = ['season', 'yr', 'mnth', 'hr', 'holiday', 'weekday', 'workingday', 'weathersit']\n",
    "df[category_columns] = df[category_columns].astype('category')\n",
    "\n",
    "# Display the updated data types\n",
    "print(df.dtypes)\n",
    "\n"
   ]
  },
  {
   "cell_type": "code",
   "execution_count": 9,
   "id": "eb0876cd",
   "metadata": {},
   "outputs": [
    {
     "data": {
      "text/html": [
       "<div>\n",
       "<style scoped>\n",
       "    .dataframe tbody tr th:only-of-type {\n",
       "        vertical-align: middle;\n",
       "    }\n",
       "\n",
       "    .dataframe tbody tr th {\n",
       "        vertical-align: top;\n",
       "    }\n",
       "\n",
       "    .dataframe thead th {\n",
       "        text-align: right;\n",
       "    }\n",
       "</style>\n",
       "<table border=\"1\" class=\"dataframe\">\n",
       "  <thead>\n",
       "    <tr style=\"text-align: right;\">\n",
       "      <th></th>\n",
       "      <th>dteday</th>\n",
       "      <th>season</th>\n",
       "      <th>yr</th>\n",
       "      <th>mnth</th>\n",
       "      <th>hr</th>\n",
       "      <th>holiday</th>\n",
       "      <th>weekday</th>\n",
       "      <th>workingday</th>\n",
       "      <th>weathersit</th>\n",
       "      <th>temp</th>\n",
       "      <th>atemp</th>\n",
       "      <th>hum</th>\n",
       "      <th>windspeed</th>\n",
       "      <th>casual</th>\n",
       "      <th>registered</th>\n",
       "      <th>cnt</th>\n",
       "    </tr>\n",
       "  </thead>\n",
       "  <tbody>\n",
       "    <tr>\n",
       "      <th>0</th>\n",
       "      <td>2011-01-01</td>\n",
       "      <td>1</td>\n",
       "      <td>0</td>\n",
       "      <td>1</td>\n",
       "      <td>0</td>\n",
       "      <td>0</td>\n",
       "      <td>6</td>\n",
       "      <td>0</td>\n",
       "      <td>1</td>\n",
       "      <td>0.24</td>\n",
       "      <td>0.2879</td>\n",
       "      <td>0.81</td>\n",
       "      <td>0.0000</td>\n",
       "      <td>3</td>\n",
       "      <td>13</td>\n",
       "      <td>16</td>\n",
       "    </tr>\n",
       "    <tr>\n",
       "      <th>1</th>\n",
       "      <td>2011-01-01</td>\n",
       "      <td>1</td>\n",
       "      <td>0</td>\n",
       "      <td>1</td>\n",
       "      <td>1</td>\n",
       "      <td>0</td>\n",
       "      <td>6</td>\n",
       "      <td>0</td>\n",
       "      <td>1</td>\n",
       "      <td>0.22</td>\n",
       "      <td>0.2727</td>\n",
       "      <td>0.80</td>\n",
       "      <td>0.0000</td>\n",
       "      <td>8</td>\n",
       "      <td>32</td>\n",
       "      <td>40</td>\n",
       "    </tr>\n",
       "    <tr>\n",
       "      <th>2</th>\n",
       "      <td>2011-01-01</td>\n",
       "      <td>1</td>\n",
       "      <td>0</td>\n",
       "      <td>1</td>\n",
       "      <td>2</td>\n",
       "      <td>0</td>\n",
       "      <td>6</td>\n",
       "      <td>0</td>\n",
       "      <td>1</td>\n",
       "      <td>0.22</td>\n",
       "      <td>0.2727</td>\n",
       "      <td>0.80</td>\n",
       "      <td>0.0000</td>\n",
       "      <td>5</td>\n",
       "      <td>27</td>\n",
       "      <td>32</td>\n",
       "    </tr>\n",
       "    <tr>\n",
       "      <th>3</th>\n",
       "      <td>2011-01-01</td>\n",
       "      <td>1</td>\n",
       "      <td>0</td>\n",
       "      <td>1</td>\n",
       "      <td>3</td>\n",
       "      <td>0</td>\n",
       "      <td>6</td>\n",
       "      <td>0</td>\n",
       "      <td>1</td>\n",
       "      <td>0.24</td>\n",
       "      <td>0.2879</td>\n",
       "      <td>0.75</td>\n",
       "      <td>0.0000</td>\n",
       "      <td>3</td>\n",
       "      <td>10</td>\n",
       "      <td>13</td>\n",
       "    </tr>\n",
       "    <tr>\n",
       "      <th>4</th>\n",
       "      <td>2011-01-01</td>\n",
       "      <td>1</td>\n",
       "      <td>0</td>\n",
       "      <td>1</td>\n",
       "      <td>4</td>\n",
       "      <td>0</td>\n",
       "      <td>6</td>\n",
       "      <td>0</td>\n",
       "      <td>1</td>\n",
       "      <td>0.24</td>\n",
       "      <td>0.2879</td>\n",
       "      <td>0.75</td>\n",
       "      <td>0.0000</td>\n",
       "      <td>0</td>\n",
       "      <td>1</td>\n",
       "      <td>1</td>\n",
       "    </tr>\n",
       "    <tr>\n",
       "      <th>...</th>\n",
       "      <td>...</td>\n",
       "      <td>...</td>\n",
       "      <td>...</td>\n",
       "      <td>...</td>\n",
       "      <td>...</td>\n",
       "      <td>...</td>\n",
       "      <td>...</td>\n",
       "      <td>...</td>\n",
       "      <td>...</td>\n",
       "      <td>...</td>\n",
       "      <td>...</td>\n",
       "      <td>...</td>\n",
       "      <td>...</td>\n",
       "      <td>...</td>\n",
       "      <td>...</td>\n",
       "      <td>...</td>\n",
       "    </tr>\n",
       "    <tr>\n",
       "      <th>17374</th>\n",
       "      <td>2012-12-31</td>\n",
       "      <td>1</td>\n",
       "      <td>1</td>\n",
       "      <td>12</td>\n",
       "      <td>19</td>\n",
       "      <td>0</td>\n",
       "      <td>1</td>\n",
       "      <td>1</td>\n",
       "      <td>2</td>\n",
       "      <td>0.26</td>\n",
       "      <td>0.2576</td>\n",
       "      <td>0.60</td>\n",
       "      <td>0.1642</td>\n",
       "      <td>11</td>\n",
       "      <td>108</td>\n",
       "      <td>119</td>\n",
       "    </tr>\n",
       "    <tr>\n",
       "      <th>17375</th>\n",
       "      <td>2012-12-31</td>\n",
       "      <td>1</td>\n",
       "      <td>1</td>\n",
       "      <td>12</td>\n",
       "      <td>20</td>\n",
       "      <td>0</td>\n",
       "      <td>1</td>\n",
       "      <td>1</td>\n",
       "      <td>2</td>\n",
       "      <td>0.26</td>\n",
       "      <td>0.2576</td>\n",
       "      <td>0.60</td>\n",
       "      <td>0.1642</td>\n",
       "      <td>8</td>\n",
       "      <td>81</td>\n",
       "      <td>89</td>\n",
       "    </tr>\n",
       "    <tr>\n",
       "      <th>17376</th>\n",
       "      <td>2012-12-31</td>\n",
       "      <td>1</td>\n",
       "      <td>1</td>\n",
       "      <td>12</td>\n",
       "      <td>21</td>\n",
       "      <td>0</td>\n",
       "      <td>1</td>\n",
       "      <td>1</td>\n",
       "      <td>1</td>\n",
       "      <td>0.26</td>\n",
       "      <td>0.2576</td>\n",
       "      <td>0.60</td>\n",
       "      <td>0.1642</td>\n",
       "      <td>7</td>\n",
       "      <td>83</td>\n",
       "      <td>90</td>\n",
       "    </tr>\n",
       "    <tr>\n",
       "      <th>17377</th>\n",
       "      <td>2012-12-31</td>\n",
       "      <td>1</td>\n",
       "      <td>1</td>\n",
       "      <td>12</td>\n",
       "      <td>22</td>\n",
       "      <td>0</td>\n",
       "      <td>1</td>\n",
       "      <td>1</td>\n",
       "      <td>1</td>\n",
       "      <td>0.26</td>\n",
       "      <td>0.2727</td>\n",
       "      <td>0.56</td>\n",
       "      <td>0.1343</td>\n",
       "      <td>13</td>\n",
       "      <td>48</td>\n",
       "      <td>61</td>\n",
       "    </tr>\n",
       "    <tr>\n",
       "      <th>17378</th>\n",
       "      <td>2012-12-31</td>\n",
       "      <td>1</td>\n",
       "      <td>1</td>\n",
       "      <td>12</td>\n",
       "      <td>23</td>\n",
       "      <td>0</td>\n",
       "      <td>1</td>\n",
       "      <td>1</td>\n",
       "      <td>1</td>\n",
       "      <td>0.26</td>\n",
       "      <td>0.2727</td>\n",
       "      <td>0.65</td>\n",
       "      <td>0.1343</td>\n",
       "      <td>12</td>\n",
       "      <td>37</td>\n",
       "      <td>49</td>\n",
       "    </tr>\n",
       "  </tbody>\n",
       "</table>\n",
       "<p>17379 rows × 16 columns</p>\n",
       "</div>"
      ],
      "text/plain": [
       "          dteday season yr mnth  hr holiday weekday workingday weathersit  \\\n",
       "0     2011-01-01      1  0    1   0       0       6          0          1   \n",
       "1     2011-01-01      1  0    1   1       0       6          0          1   \n",
       "2     2011-01-01      1  0    1   2       0       6          0          1   \n",
       "3     2011-01-01      1  0    1   3       0       6          0          1   \n",
       "4     2011-01-01      1  0    1   4       0       6          0          1   \n",
       "...          ...    ... ..  ...  ..     ...     ...        ...        ...   \n",
       "17374 2012-12-31      1  1   12  19       0       1          1          2   \n",
       "17375 2012-12-31      1  1   12  20       0       1          1          2   \n",
       "17376 2012-12-31      1  1   12  21       0       1          1          1   \n",
       "17377 2012-12-31      1  1   12  22       0       1          1          1   \n",
       "17378 2012-12-31      1  1   12  23       0       1          1          1   \n",
       "\n",
       "       temp   atemp   hum  windspeed  casual  registered  cnt  \n",
       "0      0.24  0.2879  0.81     0.0000       3          13   16  \n",
       "1      0.22  0.2727  0.80     0.0000       8          32   40  \n",
       "2      0.22  0.2727  0.80     0.0000       5          27   32  \n",
       "3      0.24  0.2879  0.75     0.0000       3          10   13  \n",
       "4      0.24  0.2879  0.75     0.0000       0           1    1  \n",
       "...     ...     ...   ...        ...     ...         ...  ...  \n",
       "17374  0.26  0.2576  0.60     0.1642      11         108  119  \n",
       "17375  0.26  0.2576  0.60     0.1642       8          81   89  \n",
       "17376  0.26  0.2576  0.60     0.1642       7          83   90  \n",
       "17377  0.26  0.2727  0.56     0.1343      13          48   61  \n",
       "17378  0.26  0.2727  0.65     0.1343      12          37   49  \n",
       "\n",
       "[17379 rows x 16 columns]"
      ]
     },
     "execution_count": 9,
     "metadata": {},
     "output_type": "execute_result"
    }
   ],
   "source": [
    "# Dropping \"instant\" column \n",
    "df = df.drop(['instant'], axis=1)\n",
    "df"
   ]
  },
  {
   "cell_type": "code",
   "execution_count": 69,
   "id": "5ceba63d",
   "metadata": {},
   "outputs": [
    {
     "data": {
      "text/html": [
       "<div>\n",
       "<style scoped>\n",
       "    .dataframe tbody tr th:only-of-type {\n",
       "        vertical-align: middle;\n",
       "    }\n",
       "\n",
       "    .dataframe tbody tr th {\n",
       "        vertical-align: top;\n",
       "    }\n",
       "\n",
       "    .dataframe thead th {\n",
       "        text-align: right;\n",
       "    }\n",
       "</style>\n",
       "<table border=\"1\" class=\"dataframe\">\n",
       "  <thead>\n",
       "    <tr style=\"text-align: right;\">\n",
       "      <th></th>\n",
       "      <th>season</th>\n",
       "      <th>yr</th>\n",
       "      <th>mnth</th>\n",
       "      <th>hr</th>\n",
       "      <th>holiday</th>\n",
       "      <th>weekday</th>\n",
       "      <th>workingday</th>\n",
       "      <th>weathersit</th>\n",
       "      <th>temp</th>\n",
       "      <th>atemp</th>\n",
       "      <th>hum</th>\n",
       "      <th>windspeed</th>\n",
       "      <th>casual</th>\n",
       "      <th>registered</th>\n",
       "      <th>cnt</th>\n",
       "      <th>extracted_day</th>\n",
       "    </tr>\n",
       "  </thead>\n",
       "  <tbody>\n",
       "    <tr>\n",
       "      <th>0</th>\n",
       "      <td>1</td>\n",
       "      <td>0</td>\n",
       "      <td>1</td>\n",
       "      <td>0</td>\n",
       "      <td>0</td>\n",
       "      <td>6</td>\n",
       "      <td>0</td>\n",
       "      <td>1</td>\n",
       "      <td>0.215111</td>\n",
       "      <td>0.253013</td>\n",
       "      <td>0.593327</td>\n",
       "      <td>0.000000</td>\n",
       "      <td>1.386294</td>\n",
       "      <td>2.639057</td>\n",
       "      <td>2.833213</td>\n",
       "      <td>1</td>\n",
       "    </tr>\n",
       "    <tr>\n",
       "      <th>1</th>\n",
       "      <td>1</td>\n",
       "      <td>0</td>\n",
       "      <td>1</td>\n",
       "      <td>1</td>\n",
       "      <td>0</td>\n",
       "      <td>6</td>\n",
       "      <td>0</td>\n",
       "      <td>1</td>\n",
       "      <td>0.198851</td>\n",
       "      <td>0.241141</td>\n",
       "      <td>0.587787</td>\n",
       "      <td>0.000000</td>\n",
       "      <td>2.197225</td>\n",
       "      <td>3.496508</td>\n",
       "      <td>3.713572</td>\n",
       "      <td>1</td>\n",
       "    </tr>\n",
       "    <tr>\n",
       "      <th>2</th>\n",
       "      <td>1</td>\n",
       "      <td>0</td>\n",
       "      <td>1</td>\n",
       "      <td>2</td>\n",
       "      <td>0</td>\n",
       "      <td>6</td>\n",
       "      <td>0</td>\n",
       "      <td>1</td>\n",
       "      <td>0.198851</td>\n",
       "      <td>0.241141</td>\n",
       "      <td>0.587787</td>\n",
       "      <td>0.000000</td>\n",
       "      <td>1.791759</td>\n",
       "      <td>3.332205</td>\n",
       "      <td>3.496508</td>\n",
       "      <td>1</td>\n",
       "    </tr>\n",
       "    <tr>\n",
       "      <th>3</th>\n",
       "      <td>1</td>\n",
       "      <td>0</td>\n",
       "      <td>1</td>\n",
       "      <td>3</td>\n",
       "      <td>0</td>\n",
       "      <td>6</td>\n",
       "      <td>0</td>\n",
       "      <td>1</td>\n",
       "      <td>0.215111</td>\n",
       "      <td>0.253013</td>\n",
       "      <td>0.559616</td>\n",
       "      <td>0.000000</td>\n",
       "      <td>1.386294</td>\n",
       "      <td>2.397895</td>\n",
       "      <td>2.639057</td>\n",
       "      <td>1</td>\n",
       "    </tr>\n",
       "    <tr>\n",
       "      <th>4</th>\n",
       "      <td>1</td>\n",
       "      <td>0</td>\n",
       "      <td>1</td>\n",
       "      <td>4</td>\n",
       "      <td>0</td>\n",
       "      <td>6</td>\n",
       "      <td>0</td>\n",
       "      <td>1</td>\n",
       "      <td>0.215111</td>\n",
       "      <td>0.253013</td>\n",
       "      <td>0.559616</td>\n",
       "      <td>0.000000</td>\n",
       "      <td>0.000000</td>\n",
       "      <td>0.693147</td>\n",
       "      <td>0.693147</td>\n",
       "      <td>1</td>\n",
       "    </tr>\n",
       "    <tr>\n",
       "      <th>...</th>\n",
       "      <td>...</td>\n",
       "      <td>...</td>\n",
       "      <td>...</td>\n",
       "      <td>...</td>\n",
       "      <td>...</td>\n",
       "      <td>...</td>\n",
       "      <td>...</td>\n",
       "      <td>...</td>\n",
       "      <td>...</td>\n",
       "      <td>...</td>\n",
       "      <td>...</td>\n",
       "      <td>...</td>\n",
       "      <td>...</td>\n",
       "      <td>...</td>\n",
       "      <td>...</td>\n",
       "      <td>...</td>\n",
       "    </tr>\n",
       "    <tr>\n",
       "      <th>17374</th>\n",
       "      <td>1</td>\n",
       "      <td>1</td>\n",
       "      <td>12</td>\n",
       "      <td>19</td>\n",
       "      <td>0</td>\n",
       "      <td>1</td>\n",
       "      <td>1</td>\n",
       "      <td>2</td>\n",
       "      <td>0.231112</td>\n",
       "      <td>0.229205</td>\n",
       "      <td>0.470004</td>\n",
       "      <td>0.152034</td>\n",
       "      <td>2.484907</td>\n",
       "      <td>4.691348</td>\n",
       "      <td>4.787492</td>\n",
       "      <td>31</td>\n",
       "    </tr>\n",
       "    <tr>\n",
       "      <th>17375</th>\n",
       "      <td>1</td>\n",
       "      <td>1</td>\n",
       "      <td>12</td>\n",
       "      <td>20</td>\n",
       "      <td>0</td>\n",
       "      <td>1</td>\n",
       "      <td>1</td>\n",
       "      <td>2</td>\n",
       "      <td>0.231112</td>\n",
       "      <td>0.229205</td>\n",
       "      <td>0.470004</td>\n",
       "      <td>0.152034</td>\n",
       "      <td>2.197225</td>\n",
       "      <td>4.406719</td>\n",
       "      <td>4.499810</td>\n",
       "      <td>31</td>\n",
       "    </tr>\n",
       "    <tr>\n",
       "      <th>17376</th>\n",
       "      <td>1</td>\n",
       "      <td>1</td>\n",
       "      <td>12</td>\n",
       "      <td>21</td>\n",
       "      <td>0</td>\n",
       "      <td>1</td>\n",
       "      <td>1</td>\n",
       "      <td>1</td>\n",
       "      <td>0.231112</td>\n",
       "      <td>0.229205</td>\n",
       "      <td>0.470004</td>\n",
       "      <td>0.152034</td>\n",
       "      <td>2.079442</td>\n",
       "      <td>4.430817</td>\n",
       "      <td>4.510860</td>\n",
       "      <td>31</td>\n",
       "    </tr>\n",
       "    <tr>\n",
       "      <th>17377</th>\n",
       "      <td>1</td>\n",
       "      <td>1</td>\n",
       "      <td>12</td>\n",
       "      <td>22</td>\n",
       "      <td>0</td>\n",
       "      <td>1</td>\n",
       "      <td>1</td>\n",
       "      <td>1</td>\n",
       "      <td>0.231112</td>\n",
       "      <td>0.241141</td>\n",
       "      <td>0.444686</td>\n",
       "      <td>0.126016</td>\n",
       "      <td>2.639057</td>\n",
       "      <td>3.891820</td>\n",
       "      <td>4.127134</td>\n",
       "      <td>31</td>\n",
       "    </tr>\n",
       "    <tr>\n",
       "      <th>17378</th>\n",
       "      <td>1</td>\n",
       "      <td>1</td>\n",
       "      <td>12</td>\n",
       "      <td>23</td>\n",
       "      <td>0</td>\n",
       "      <td>1</td>\n",
       "      <td>1</td>\n",
       "      <td>1</td>\n",
       "      <td>0.231112</td>\n",
       "      <td>0.241141</td>\n",
       "      <td>0.500775</td>\n",
       "      <td>0.126016</td>\n",
       "      <td>2.564949</td>\n",
       "      <td>3.637586</td>\n",
       "      <td>3.912023</td>\n",
       "      <td>31</td>\n",
       "    </tr>\n",
       "  </tbody>\n",
       "</table>\n",
       "<p>17379 rows × 16 columns</p>\n",
       "</div>"
      ],
      "text/plain": [
       "      season yr mnth  hr holiday weekday workingday weathersit      temp  \\\n",
       "0          1  0    1   0       0       6          0          1  0.215111   \n",
       "1          1  0    1   1       0       6          0          1  0.198851   \n",
       "2          1  0    1   2       0       6          0          1  0.198851   \n",
       "3          1  0    1   3       0       6          0          1  0.215111   \n",
       "4          1  0    1   4       0       6          0          1  0.215111   \n",
       "...      ... ..  ...  ..     ...     ...        ...        ...       ...   \n",
       "17374      1  1   12  19       0       1          1          2  0.231112   \n",
       "17375      1  1   12  20       0       1          1          2  0.231112   \n",
       "17376      1  1   12  21       0       1          1          1  0.231112   \n",
       "17377      1  1   12  22       0       1          1          1  0.231112   \n",
       "17378      1  1   12  23       0       1          1          1  0.231112   \n",
       "\n",
       "          atemp       hum  windspeed    casual  registered       cnt  \\\n",
       "0      0.253013  0.593327   0.000000  1.386294    2.639057  2.833213   \n",
       "1      0.241141  0.587787   0.000000  2.197225    3.496508  3.713572   \n",
       "2      0.241141  0.587787   0.000000  1.791759    3.332205  3.496508   \n",
       "3      0.253013  0.559616   0.000000  1.386294    2.397895  2.639057   \n",
       "4      0.253013  0.559616   0.000000  0.000000    0.693147  0.693147   \n",
       "...         ...       ...        ...       ...         ...       ...   \n",
       "17374  0.229205  0.470004   0.152034  2.484907    4.691348  4.787492   \n",
       "17375  0.229205  0.470004   0.152034  2.197225    4.406719  4.499810   \n",
       "17376  0.229205  0.470004   0.152034  2.079442    4.430817  4.510860   \n",
       "17377  0.241141  0.444686   0.126016  2.639057    3.891820  4.127134   \n",
       "17378  0.241141  0.500775   0.126016  2.564949    3.637586  3.912023   \n",
       "\n",
       "      extracted_day  \n",
       "0                 1  \n",
       "1                 1  \n",
       "2                 1  \n",
       "3                 1  \n",
       "4                 1  \n",
       "...             ...  \n",
       "17374            31  \n",
       "17375            31  \n",
       "17376            31  \n",
       "17377            31  \n",
       "17378            31  \n",
       "\n",
       "[17379 rows x 16 columns]"
      ]
     },
     "execution_count": 69,
     "metadata": {},
     "output_type": "execute_result"
    }
   ],
   "source": [
    "df = df.drop(['dteday'], axis=1)\n",
    "df"
   ]
  },
  {
   "cell_type": "raw",
   "id": "76b4e5cd",
   "metadata": {},
   "source": [
    "Categorical Variables:\n",
    "\n",
    "season: Representing the season as a category.\n",
    "yr: Representing the year as a category (0: 2011, 1: 2012).\n",
    "mnth: Representing the month as a category.\n",
    "hr: Representing the hour of the day as a category.\n",
    "holiday: Indicating if it's a holiday or not as a category.\n",
    "weekday: Representing the day of the week as a category.\n",
    "workingday: Indicating if it's a working day or not as a category.\n",
    "weathersit: Representing the weather situation as a category.\n",
    "Numerical Variables:\n",
    "\n",
    "temp: Normalized temperature.\n",
    "atemp: Normalized \"feels-like\" temperature.\n",
    "hum: Normalized humidity.\n",
    "windspeed: Normalized wind speed.\n",
    "casual: Count of casual bike rentals.\n",
    "registered: Count of registered bike rentals.\n",
    "cnt: Total count of bike rentals."
   ]
  },
  {
   "cell_type": "code",
   "execution_count": 10,
   "id": "f9302549",
   "metadata": {},
   "outputs": [
    {
     "data": {
      "text/plain": [
       "3    4496\n",
       "2    4409\n",
       "1    4242\n",
       "4    4232\n",
       "Name: season, dtype: int64"
      ]
     },
     "execution_count": 10,
     "metadata": {},
     "output_type": "execute_result"
    }
   ],
   "source": [
    "# lETS DO CATEGORIACAL COLUMN ANALAYSIS\n",
    "df[\"season\"].value_counts()"
   ]
  },
  {
   "cell_type": "code",
   "execution_count": 11,
   "id": "195f308f",
   "metadata": {},
   "outputs": [
    {
     "data": {
      "text/plain": [
       "<Axes: xlabel='season', ylabel='count'>"
      ]
     },
     "execution_count": 11,
     "metadata": {},
     "output_type": "execute_result"
    },
    {
     "data": {
      "image/png": "[encoded data removed]",
      "text/plain": [
       "<Figure size 640x480 with 1 Axes>"
      ]
     },
     "metadata": {},
     "output_type": "display_data"
    }
   ],
   "source": [
    "# Plotting bar graph for  \"season\" column\n",
    "sns.countplot(x=\"season\", data=df)"
   ]
  },
  {
   "cell_type": "raw",
   "id": "922f30b7",
   "metadata": {},
   "source": [
    "Season Distribution:\n",
    "\n",
    "Season 3 (Fall) has the highest count of records, with 4496 occurrences.\n",
    "Season 2 (Summer) follows closely with 4409 records.\n",
    "Season 1 (Spring) has 4242 records.\n",
    "Season 4 (Winter) has 4232 records.\n",
    "Observation on Seasonal Patterns:\n",
    "\n",
    "The data suggests that Fall (Season 3) and Summer (Season 2) are relatively more prevalent in the dataset.\n",
    "Spring (Season 1) and Winter (Season 4) have slightly lower counts, with Winter being the least frequent."
   ]
  },
  {
   "cell_type": "code",
   "execution_count": 12,
   "id": "e2825668",
   "metadata": {},
   "outputs": [
    {
     "data": {
      "text/plain": [
       "1    8734\n",
       "0    8645\n",
       "Name: yr, dtype: int64"
      ]
     },
     "execution_count": 12,
     "metadata": {},
     "output_type": "execute_result"
    }
   ],
   "source": [
    "df[\"yr\"].value_counts()"
   ]
  },
  {
   "cell_type": "code",
   "execution_count": 13,
   "id": "78c5c9f5",
   "metadata": {},
   "outputs": [
    {
     "data": {
      "text/plain": [
       "<Axes: xlabel='yr', ylabel='count'>"
      ]
     },
     "execution_count": 13,
     "metadata": {},
     "output_type": "execute_result"
    },
    {
     "data": {
      "image/png": "[encoded data removed]",
      "text/plain": [
       "<Figure size 640x480 with 1 Axes>"
      ]
     },
     "metadata": {},
     "output_type": "display_data"
    }
   ],
   "source": [
    "# Plotting  bar graph for \"yr\" column\n",
    "sns.countplot(x=\"yr\", data=df)\n"
   ]
  },
  {
   "cell_type": "raw",
   "id": "17e8964a",
   "metadata": {},
   "source": [
    "Year Distribution:\n",
    "\n",
    "There are two years represented in the dataset: Year 1 and Year 0.\n",
    "Year 1 has a higher count of records, with 8734 occurrences.\n",
    "Year 0 follows closely with 8645 records.\n",
    "Observation on Yearly Patterns:\n",
    "\n",
    "The data suggests that there is a relatively balanced distribution of records across the two years.\n",
    "Year 1 has a slightly higher count compared to Year 0."
   ]
  },
  {
   "cell_type": "code",
   "execution_count": 14,
   "id": "1506faff",
   "metadata": {},
   "outputs": [
    {
     "data": {
      "text/plain": [
       "5     1488\n",
       "7     1488\n",
       "12    1483\n",
       "8     1475\n",
       "3     1473\n",
       "10    1451\n",
       "6     1440\n",
       "4     1437\n",
       "9     1437\n",
       "11    1437\n",
       "1     1429\n",
       "2     1341\n",
       "Name: mnth, dtype: int64"
      ]
     },
     "execution_count": 14,
     "metadata": {},
     "output_type": "execute_result"
    }
   ],
   "source": [
    "df[\"mnth\"].value_counts()"
   ]
  },
  {
   "cell_type": "code",
   "execution_count": 15,
   "id": "8a2bf513",
   "metadata": {},
   "outputs": [
    {
     "data": {
      "text/plain": [
       "<Axes: xlabel='mnth', ylabel='count'>"
      ]
     },
     "execution_count": 15,
     "metadata": {},
     "output_type": "execute_result"
    },
    {
     "data": {
      "image/png": "[encoded data removed]",
      "text/plain": [
       "<Figure size 640x480 with 1 Axes>"
      ]
     },
     "metadata": {},
     "output_type": "display_data"
    }
   ],
   "source": [
    "# Plotting bar graph for \"mnth\" column\n",
    "sns.countplot(x=\"mnth\", data=df)"
   ]
  },
  {
   "cell_type": "raw",
   "id": "aee5b174",
   "metadata": {},
   "source": [
    "Monthly Distribution:\n",
    "\n",
    "The dataset covers all 12 months of the year.\n",
    "The highest count of records is observed in May (Month 5) and July (Month 7), both with 1488 occurrences.\n",
    "December (Month 12) follows closely with 1483 records.\n",
    "February (Month 2) has the lowest count among the months, with 1341 records.\n",
    "Observation on Monthly Patterns:\n",
    "\n",
    "There is some variation in bike rental counts across different months.\n",
    "Months in the spring and summer (May, July) seem to have higher rental counts."
   ]
  },
  {
   "cell_type": "code",
   "execution_count": 16,
   "id": "f751b493",
   "metadata": {},
   "outputs": [
    {
     "data": {
      "text/plain": [
       "17    730\n",
       "16    730\n",
       "13    729\n",
       "15    729\n",
       "14    729\n",
       "12    728\n",
       "22    728\n",
       "21    728\n",
       "20    728\n",
       "19    728\n",
       "18    728\n",
       "23    728\n",
       "11    727\n",
       "10    727\n",
       "9     727\n",
       "8     727\n",
       "7     727\n",
       "0     726\n",
       "6     725\n",
       "1     724\n",
       "5     717\n",
       "2     715\n",
       "4     697\n",
       "3     697\n",
       "Name: hr, dtype: int64"
      ]
     },
     "execution_count": 16,
     "metadata": {},
     "output_type": "execute_result"
    }
   ],
   "source": [
    "df[\"hr\"].value_counts()"
   ]
  },
  {
   "cell_type": "code",
   "execution_count": 17,
   "id": "0c2f4714",
   "metadata": {},
   "outputs": [
    {
     "data": {
      "text/plain": [
       "<Axes: xlabel='hr', ylabel='count'>"
      ]
     },
     "execution_count": 17,
     "metadata": {},
     "output_type": "execute_result"
    },
    {
     "data": {
      "image/png": "[encoded data removed]",
      "text/plain": [
       "<Figure size 640x480 with 1 Axes>"
      ]
     },
     "metadata": {},
     "output_type": "display_data"
    }
   ],
   "source": [
    "# Plottin bar graph for \"hr\" column\n",
    "sns.countplot(x=\"hr\", data=df)"
   ]
  },
  {
   "cell_type": "raw",
   "id": "c4907911",
   "metadata": {},
   "source": [
    "Hourly Distribution:\n",
    "\n",
    "The dataset covers all 24 hours of the day, with varying counts for each hour.\n",
    "Hours 17 and 16 have the highest count of records, both with 730 occurrences.\n",
    "The early morning hours, specifically 4 and 3, have lower counts compared to other times of the day.\n",
    "Observation on Hourly Patterns:\n",
    "\n",
    "There is variability in bike rental counts across different hours of the day.\n",
    "Late afternoon and early evening hours (17, 16, 15, 14) seem to have higher rental counts."
   ]
  },
  {
   "cell_type": "code",
   "execution_count": 18,
   "id": "7165d330",
   "metadata": {},
   "outputs": [
    {
     "data": {
      "text/plain": [
       "0    16879\n",
       "1      500\n",
       "Name: holiday, dtype: int64"
      ]
     },
     "execution_count": 18,
     "metadata": {},
     "output_type": "execute_result"
    }
   ],
   "source": [
    "df[\"holiday\"].value_counts()"
   ]
  },
  {
   "cell_type": "code",
   "execution_count": 19,
   "id": "9ac2122b",
   "metadata": {},
   "outputs": [
    {
     "data": {
      "text/plain": [
       "<Axes: xlabel='holiday', ylabel='count'>"
      ]
     },
     "execution_count": 19,
     "metadata": {},
     "output_type": "execute_result"
    },
    {
     "data": {
      "image/png": "[encoded data removed]",
      "text/plain": [
       "<Figure size 640x480 with 1 Axes>"
      ]
     },
     "metadata": {},
     "output_type": "display_data"
    }
   ],
   "source": [
    "# Bar graph for \"holiday\" column\n",
    "sns.countplot(x=\"holiday\", data=df)"
   ]
  },
  {
   "cell_type": "raw",
   "id": "35c0db23",
   "metadata": {},
   "source": [
    "Holiday Distribution:\n",
    "\n",
    "The dataset includes two categories for holidays: 0 (non-holiday) and 1 (holiday).\n",
    "The majority of records (16879 occurrences) are from non-holiday periods (holiday = 0).\n",
    "Holiday periods (holiday = 1) have a much lower count, with 500 occurrences.\n",
    "Observation on Holiday Influence:\n",
    "\n",
    "Non-holiday periods significantly dominate the dataset, suggesting that the majority of records are from regular, non-holiday days.\n",
    "The lower count during holidays may indicate potential changes in bike rental patterns during these special occasions."
   ]
  },
  {
   "cell_type": "code",
   "execution_count": 20,
   "id": "4a088db8",
   "metadata": {},
   "outputs": [
    {
     "data": {
      "text/plain": [
       "1    11865\n",
       "0     5514\n",
       "Name: workingday, dtype: int64"
      ]
     },
     "execution_count": 20,
     "metadata": {},
     "output_type": "execute_result"
    }
   ],
   "source": [
    "df[\"workingday\"].value_counts()"
   ]
  },
  {
   "cell_type": "code",
   "execution_count": 21,
   "id": "8fa5fdd8",
   "metadata": {
    "scrolled": true
   },
   "outputs": [
    {
     "data": {
      "text/plain": [
       "<Axes: xlabel='workingday', ylabel='count'>"
      ]
     },
     "execution_count": 21,
     "metadata": {},
     "output_type": "execute_result"
    },
    {
     "data": {
      "image/png": "[encoded data removed]",
      "text/plain": [
       "<Figure size 640x480 with 1 Axes>"
      ]
     },
     "metadata": {},
     "output_type": "display_data"
    }
   ],
   "source": [
    "# Plotting  bar graph for \"workingday\" column\n",
    "sns.countplot(x=\"workingday\", data=df)"
   ]
  },
  {
   "cell_type": "raw",
   "id": "e63b95ed",
   "metadata": {},
   "source": [
    "Working Day Distribution:\n",
    "\n",
    "The dataset includes two categories for working days: 1 (working day) and 0 (non-working day).\n",
    "The majority of records (11865 occurrences) are from working days (workingday = 1).\n",
    "Non-working days (workingday = 0) have a lower count, with 5514 occurrences.\n",
    "Observation on Working Day Influence:\n",
    "\n",
    "Working days significantly dominate the dataset, suggesting that the majority of records are from regular weekdays.\n",
    "Non-working days have a lower count, indicating potential differences in bike rental patterns during weekends or holidays."
   ]
  },
  {
   "cell_type": "code",
   "execution_count": 22,
   "id": "2d95306d",
   "metadata": {},
   "outputs": [
    {
     "data": {
      "text/plain": [
       "1    11413\n",
       "2     4544\n",
       "3     1419\n",
       "4        3\n",
       "Name: weathersit, dtype: int64"
      ]
     },
     "execution_count": 22,
     "metadata": {},
     "output_type": "execute_result"
    }
   ],
   "source": [
    "df[\"weathersit\"].value_counts()"
   ]
  },
  {
   "cell_type": "code",
   "execution_count": 23,
   "id": "fc521cdd",
   "metadata": {},
   "outputs": [
    {
     "data": {
      "text/plain": [
       "<Axes: xlabel='weathersit', ylabel='count'>"
      ]
     },
     "execution_count": 23,
     "metadata": {},
     "output_type": "execute_result"
    },
    {
     "data": {
      "image/png": "[encoded data removed]",
      "text/plain": [
       "<Figure size 640x480 with 1 Axes>"
      ]
     },
     "metadata": {},
     "output_type": "display_data"
    }
   ],
   "source": [
    "# Plotting  bar graph for \"weathersit\" column\n",
    "sns.countplot(x=\"weathersit\", data=df)"
   ]
  },
  {
   "cell_type": "raw",
   "id": "a6fdf25b",
   "metadata": {},
   "source": [
    "Weather Situation Distribution:\n",
    "\n",
    "The dataset includes four categories for weather situations: 1, 2, 3, and 4.\n",
    "Weather Situation 1 has the highest count of records, with 11413 occurrences.\n",
    "Weather Situation 2 follows with 4544 records.\n",
    "Weather Situation 3 has a lower count, with 1419 occurrences.\n",
    "Weather Situation 4 has only 3 occurrences, indicating it might be a rare category.\n",
    "Observation on Weather Impact:\n",
    "\n",
    "Most records in the dataset correspond to Weather Situation 1, suggesting that this weather condition is predominant during bike rentals.\n",
    "Weather Situation 2 has a significant count, indicating a notable presence in the dataset"
   ]
  },
  {
   "cell_type": "raw",
   "id": "7082b5cb",
   "metadata": {},
   "source": [
    "\n",
    "temp: Normalized temperature.\n",
    "atemp: Normalized \"feels-like\" temperature.\n",
    "hum: Normalized humidity.\n",
    "windspeed: Normalized wind speed.\n",
    "casual: Count of casual bike rentals.\n",
    "registered: Count of registered bike rentals.\n",
    "cnt: Total count of bike rentals."
   ]
  },
  {
   "cell_type": "code",
   "execution_count": 24,
   "id": "1ea17af0",
   "metadata": {},
   "outputs": [
    {
     "data": {
      "text/plain": [
       "0.62    726\n",
       "0.66    693\n",
       "0.64    692\n",
       "0.70    690\n",
       "0.60    675\n",
       "0.36    671\n",
       "0.34    645\n",
       "0.30    641\n",
       "0.40    614\n",
       "0.32    611\n",
       "0.56    579\n",
       "0.72    570\n",
       "0.54    569\n",
       "0.46    559\n",
       "0.26    559\n",
       "0.52    556\n",
       "0.42    548\n",
       "0.50    531\n",
       "0.24    522\n",
       "0.74    516\n",
       "0.44    507\n",
       "0.22    421\n",
       "0.76    396\n",
       "0.38    372\n",
       "0.20    354\n",
       "0.68    349\n",
       "0.80    325\n",
       "0.58    305\n",
       "0.28    301\n",
       "0.48    288\n",
       "0.16    230\n",
       "0.82    213\n",
       "0.78    169\n",
       "0.18    155\n",
       "0.14    138\n",
       "0.84    138\n",
       "0.86    131\n",
       "0.90     90\n",
       "0.12     76\n",
       "0.88     53\n",
       "0.10     51\n",
       "0.92     49\n",
       "0.94     17\n",
       "0.08     17\n",
       "0.02     17\n",
       "0.04     16\n",
       "0.06     16\n",
       "0.96     16\n",
       "0.98      1\n",
       "1.00      1\n",
       "Name: temp, dtype: int64"
      ]
     },
     "execution_count": 24,
     "metadata": {},
     "output_type": "execute_result"
    }
   ],
   "source": [
    "df[\"temp\"].value_counts()"
   ]
  },
  {
   "cell_type": "code",
   "execution_count": 25,
   "id": "2b74bc6e",
   "metadata": {},
   "outputs": [
    {
     "data": {
      "text/plain": [
       "<Axes: xlabel='temp', ylabel='Count'>"
      ]
     },
     "execution_count": 25,
     "metadata": {},
     "output_type": "execute_result"
    },
    {
     "data": {
      "image/png": "[encoded data removed]",
      "text/plain": [
       "<Figure size 640x480 with 1 Axes>"
      ]
     },
     "metadata": {},
     "output_type": "display_data"
    }
   ],
   "source": [
    "# Plotting histogram for \"temp\" column\n",
    "sns.histplot(x=\"temp\", data=df)"
   ]
  },
  {
   "cell_type": "code",
   "execution_count": 26,
   "id": "f3aa4d98",
   "metadata": {},
   "outputs": [
    {
     "data": {
      "text/plain": [
       "-0.00602088334827027"
      ]
     },
     "execution_count": 26,
     "metadata": {},
     "output_type": "execute_result"
    }
   ],
   "source": [
    "# Checking skewness for \"temp\" column\n",
    "df[\"temp\"].skew()"
   ]
  },
  {
   "cell_type": "code",
   "execution_count": 27,
   "id": "3415f92e",
   "metadata": {},
   "outputs": [],
   "source": [
    "# Transformed \"temp\" column using log1p transformation\n",
    "df[\"temp\"] = np.log1p(df[\"temp\"])"
   ]
  },
  {
   "cell_type": "code",
   "execution_count": 28,
   "id": "8d773e2e",
   "metadata": {},
   "outputs": [
    {
     "data": {
      "text/plain": [
       "-0.21483209970638117"
      ]
     },
     "execution_count": 28,
     "metadata": {},
     "output_type": "execute_result"
    }
   ],
   "source": [
    "df[\"temp\"].skew()"
   ]
  },
  {
   "cell_type": "code",
   "execution_count": 29,
   "id": "71edb20f",
   "metadata": {},
   "outputs": [
    {
     "data": {
      "text/plain": [
       "<Axes: xlabel='temp', ylabel='Count'>"
      ]
     },
     "execution_count": 29,
     "metadata": {},
     "output_type": "execute_result"
    },
    {
     "data": {
      "image/png": "[encoded data removed]",
      "text/plain": [
       "<Figure size 640x480 with 1 Axes>"
      ]
     },
     "metadata": {},
     "output_type": "display_data"
    }
   ],
   "source": [
    "# Plotting histogram for \"temp\" column\n",
    "sns.histplot(x=\"temp\", data=df)"
   ]
  },
  {
   "cell_type": "code",
   "execution_count": 30,
   "id": "086f7cbc",
   "metadata": {},
   "outputs": [
    {
     "data": {
      "text/plain": [
       "0.6212    988\n",
       "0.5152    618\n",
       "0.4091    614\n",
       "0.3333    600\n",
       "0.6667    593\n",
       "         ... \n",
       "0.0152      4\n",
       "0.0000      2\n",
       "0.9848      2\n",
       "0.9545      1\n",
       "1.0000      1\n",
       "Name: atemp, Length: 65, dtype: int64"
      ]
     },
     "execution_count": 30,
     "metadata": {},
     "output_type": "execute_result"
    }
   ],
   "source": [
    "df[\"atemp\"].value_counts()"
   ]
  },
  {
   "cell_type": "code",
   "execution_count": 31,
   "id": "e9e3e7e1",
   "metadata": {},
   "outputs": [
    {
     "data": {
      "text/plain": [
       "<Axes: xlabel='atemp', ylabel='Count'>"
      ]
     },
     "execution_count": 31,
     "metadata": {},
     "output_type": "execute_result"
    },
    {
     "data": {
      "image/png": "[encoded data removed]",
      "text/plain": [
       "<Figure size 640x480 with 1 Axes>"
      ]
     },
     "metadata": {},
     "output_type": "display_data"
    }
   ],
   "source": [
    "# Plotting histogram for \"atemp\" column\n",
    "sns.histplot(x=\"atemp\", data=df)"
   ]
  },
  {
   "cell_type": "code",
   "execution_count": 32,
   "id": "11a0c06d",
   "metadata": {},
   "outputs": [
    {
     "data": {
      "text/plain": [
       "-0.09042885855903955"
      ]
     },
     "execution_count": 32,
     "metadata": {},
     "output_type": "execute_result"
    }
   ],
   "source": [
    "# Checking skewness for \"atemp\" column\n",
    "df[\"atemp\"].skew()"
   ]
  },
  {
   "cell_type": "code",
   "execution_count": 33,
   "id": "cec4d9bd",
   "metadata": {},
   "outputs": [],
   "source": [
    "# Using log1p transformation\n",
    "df[\"atemp\"] = np.log1p(df[\"atemp\"])"
   ]
  },
  {
   "cell_type": "code",
   "execution_count": 34,
   "id": "83069faa",
   "metadata": {},
   "outputs": [
    {
     "data": {
      "text/plain": [
       "-0.2948938568414219"
      ]
     },
     "execution_count": 34,
     "metadata": {},
     "output_type": "execute_result"
    }
   ],
   "source": [
    "#  Checking skewness for \"atemp\" column\n",
    "df[\"atemp\"].skew()"
   ]
  },
  {
   "cell_type": "code",
   "execution_count": 35,
   "id": "0eb3ab43",
   "metadata": {},
   "outputs": [
    {
     "data": {
      "text/plain": [
       "<Axes: xlabel='atemp', ylabel='Count'>"
      ]
     },
     "execution_count": 35,
     "metadata": {},
     "output_type": "execute_result"
    },
    {
     "data": {
      "image/png": "[encoded data removed]",
      "text/plain": [
       "<Figure size 640x480 with 1 Axes>"
      ]
     },
     "metadata": {},
     "output_type": "display_data"
    }
   ],
   "source": [
    "# Plotting histogram for \"atemp\" column\n",
    "sns.histplot(x=\"atemp\", data=df)"
   ]
  },
  {
   "cell_type": "code",
   "execution_count": 36,
   "id": "dd01db9b",
   "metadata": {},
   "outputs": [
    {
     "data": {
      "text/plain": [
       "0.88    657\n",
       "0.83    630\n",
       "0.94    560\n",
       "0.87    488\n",
       "0.70    430\n",
       "       ... \n",
       "0.12      1\n",
       "0.08      1\n",
       "0.10      1\n",
       "0.97      1\n",
       "0.91      1\n",
       "Name: hum, Length: 89, dtype: int64"
      ]
     },
     "execution_count": 36,
     "metadata": {},
     "output_type": "execute_result"
    }
   ],
   "source": [
    "df[\"hum\"].value_counts()"
   ]
  },
  {
   "cell_type": "code",
   "execution_count": 37,
   "id": "cae42adf",
   "metadata": {},
   "outputs": [
    {
     "data": {
      "text/plain": [
       "<Axes: xlabel='hum', ylabel='Count'>"
      ]
     },
     "execution_count": 37,
     "metadata": {},
     "output_type": "execute_result"
    },
    {
     "data": {
      "image/png": "[encoded data removed]",
      "text/plain": [
       "<Figure size 640x480 with 1 Axes>"
      ]
     },
     "metadata": {},
     "output_type": "display_data"
    }
   ],
   "source": [
    "# Plotting histogram for \"hum\" column\n",
    "sns.histplot(x=\"hum\", data=df)"
   ]
  },
  {
   "cell_type": "code",
   "execution_count": 38,
   "id": "fea4ae45",
   "metadata": {},
   "outputs": [
    {
     "data": {
      "text/plain": [
       "-0.11128714936537845"
      ]
     },
     "execution_count": 38,
     "metadata": {},
     "output_type": "execute_result"
    }
   ],
   "source": [
    "# Checking  skewness for \"hum\" column\n",
    "df[\"hum\"].skew()"
   ]
  },
  {
   "cell_type": "code",
   "execution_count": 39,
   "id": "d922d19b",
   "metadata": {},
   "outputs": [],
   "source": [
    "# Using log1p transformation\n",
    "df[\"hum\"] = np.log1p(df[\"hum\"])"
   ]
  },
  {
   "cell_type": "code",
   "execution_count": 40,
   "id": "75606e2e",
   "metadata": {},
   "outputs": [
    {
     "data": {
      "text/plain": [
       "-0.3384412829430705"
      ]
     },
     "execution_count": 40,
     "metadata": {},
     "output_type": "execute_result"
    }
   ],
   "source": [
    "#  Checking skewness for \"hum\" column\n",
    "df[\"hum\"].skew()"
   ]
  },
  {
   "cell_type": "code",
   "execution_count": 41,
   "id": "c9c3f66b",
   "metadata": {},
   "outputs": [
    {
     "data": {
      "text/plain": [
       "<Axes: xlabel='hum', ylabel='Count'>"
      ]
     },
     "execution_count": 41,
     "metadata": {},
     "output_type": "execute_result"
    },
    {
     "data": {
      "image/png": "[encoded data removed]",
      "text/plain": [
       "<Figure size 640x480 with 1 Axes>"
      ]
     },
     "metadata": {},
     "output_type": "display_data"
    }
   ],
   "source": [
    "# Plotting histogram for \"hum\" column\n",
    "sns.histplot(x=\"hum\", data=df)"
   ]
  },
  {
   "cell_type": "raw",
   "id": "13002173",
   "metadata": {},
   "source": [
    "windspeed: Normalized wind speed.\n",
    "casual: Count of casual bike rentals.\n",
    "registered: Count of registered bike rentals.\n",
    "cnt: Total count of bike rentals."
   ]
  },
  {
   "cell_type": "code",
   "execution_count": 42,
   "id": "6892bbf3",
   "metadata": {},
   "outputs": [
    {
     "data": {
      "text/plain": [
       "windspeed\n",
       "0.0000       2180\n",
       "0.1343       1738\n",
       "0.1642       1695\n",
       "0.1940       1657\n",
       "0.1045       1617\n",
       "0.2239       1513\n",
       "0.0896       1425\n",
       "0.2537       1295\n",
       "0.2836       1048\n",
       "0.2985        808\n",
       "0.3284        602\n",
       "0.3582        460\n",
       "0.3881        381\n",
       "0.4179        296\n",
       "0.4478        176\n",
       "0.4627        146\n",
       "0.4925        112\n",
       "0.5224         84\n",
       "0.5821         44\n",
       "0.5522         39\n",
       "0.6119         23\n",
       "0.6418         14\n",
       "0.6567         11\n",
       "0.6866          5\n",
       "0.7164          2\n",
       "0.7463          2\n",
       "0.8060          2\n",
       "0.8507          2\n",
       "0.7761          1\n",
       "0.8358          1\n",
       "dtype: int64"
      ]
     },
     "execution_count": 42,
     "metadata": {},
     "output_type": "execute_result"
    }
   ],
   "source": [
    "df[[\"windspeed\"]].value_counts()"
   ]
  },
  {
   "cell_type": "code",
   "execution_count": 43,
   "id": "cfa5a26d",
   "metadata": {},
   "outputs": [
    {
     "data": {
      "text/plain": [
       "<Axes: xlabel='windspeed', ylabel='Count'>"
      ]
     },
     "execution_count": 43,
     "metadata": {},
     "output_type": "execute_result"
    },
    {
     "data": {
      "image/png": "[encoded data removed]",
      "text/plain": [
       "<Figure size 640x480 with 1 Axes>"
      ]
     },
     "metadata": {},
     "output_type": "display_data"
    }
   ],
   "source": [
    "# Plotting histogram for \"windspeed\" column\n",
    "sns.histplot(x=\"windspeed\", data=df)"
   ]
  },
  {
   "cell_type": "code",
   "execution_count": 44,
   "id": "8c86ee81",
   "metadata": {},
   "outputs": [],
   "source": [
    "# Using  log1p transformation\n",
    "df[\"windspeed\"] = np.log1p(df[\"windspeed\"])"
   ]
  },
  {
   "cell_type": "code",
   "execution_count": 45,
   "id": "7bf53d79",
   "metadata": {},
   "outputs": [
    {
     "data": {
      "text/plain": [
       "0.2639259184381608"
      ]
     },
     "execution_count": 45,
     "metadata": {},
     "output_type": "execute_result"
    }
   ],
   "source": [
    "#  Checking skewness for \"windspeed\" column\n",
    "df[\"windspeed\"].skew()"
   ]
  },
  {
   "cell_type": "code",
   "execution_count": 46,
   "id": "ffe51482",
   "metadata": {},
   "outputs": [
    {
     "data": {
      "text/plain": [
       "<Axes: xlabel='windspeed', ylabel='Count'>"
      ]
     },
     "execution_count": 46,
     "metadata": {},
     "output_type": "execute_result"
    },
    {
     "data": {
      "image/png": "[encoded data removed]",
      "text/plain": [
       "<Figure size 640x480 with 1 Axes>"
      ]
     },
     "metadata": {},
     "output_type": "display_data"
    }
   ],
   "source": [
    "# Plotting histogram for \"windspeed\" column\n",
    "sns.histplot(x=\"windspeed\", data=df)"
   ]
  },
  {
   "cell_type": "code",
   "execution_count": 47,
   "id": "176e2655",
   "metadata": {},
   "outputs": [
    {
     "data": {
      "text/plain": [
       "0      1581\n",
       "1      1082\n",
       "2       798\n",
       "3       697\n",
       "4       561\n",
       "       ... \n",
       "332       1\n",
       "361       1\n",
       "356       1\n",
       "331       1\n",
       "304       1\n",
       "Name: casual, Length: 322, dtype: int64"
      ]
     },
     "execution_count": 47,
     "metadata": {},
     "output_type": "execute_result"
    }
   ],
   "source": [
    "df[\"casual\"].value_counts()"
   ]
  },
  {
   "cell_type": "code",
   "execution_count": 48,
   "id": "12724985",
   "metadata": {},
   "outputs": [
    {
     "data": {
      "text/plain": [
       "<Axes: xlabel='casual', ylabel='Count'>"
      ]
     },
     "execution_count": 48,
     "metadata": {},
     "output_type": "execute_result"
    },
    {
     "data": {
      "image/png": "[encoded data removed]",
      "text/plain": [
       "<Figure size 640x480 with 1 Axes>"
      ]
     },
     "metadata": {},
     "output_type": "display_data"
    }
   ],
   "source": [
    "# Plotting histogram for \"casual\" column\n",
    "sns.histplot(x=\"casual\", data=df)"
   ]
  },
  {
   "cell_type": "code",
   "execution_count": 49,
   "id": "1b994ce2",
   "metadata": {},
   "outputs": [
    {
     "data": {
      "text/plain": [
       "2.499236891330847"
      ]
     },
     "execution_count": 49,
     "metadata": {},
     "output_type": "execute_result"
    }
   ],
   "source": [
    "#  Checking skewness for \"casual\" column\n",
    "df[\"casual\"].skew()"
   ]
  },
  {
   "cell_type": "code",
   "execution_count": 50,
   "id": "db4b98bf",
   "metadata": {},
   "outputs": [],
   "source": [
    "#Using log1p transformation\n",
    "df[\"casual\"] = np.log1p(df[\"casual\"])"
   ]
  },
  {
   "cell_type": "code",
   "execution_count": 51,
   "id": "947a8446",
   "metadata": {},
   "outputs": [
    {
     "data": {
      "text/plain": [
       "-0.23008731877828345"
      ]
     },
     "execution_count": 51,
     "metadata": {},
     "output_type": "execute_result"
    }
   ],
   "source": [
    "#  Checking skewness for \"casual\" column\n",
    "df[\"casual\"].skew()"
   ]
  },
  {
   "cell_type": "code",
   "execution_count": 52,
   "id": "2a3198f2",
   "metadata": {},
   "outputs": [
    {
     "data": {
      "text/plain": [
       "<Axes: xlabel='casual', ylabel='Count'>"
      ]
     },
     "execution_count": 52,
     "metadata": {},
     "output_type": "execute_result"
    },
    {
     "data": {
      "image/png": "[encoded data removed]",
      "text/plain": [
       "<Figure size 640x480 with 1 Axes>"
      ]
     },
     "metadata": {},
     "output_type": "display_data"
    }
   ],
   "source": [
    "#  Plotting histogram for \"casual\" column\n",
    "sns.histplot(x=\"casual\", data=df)"
   ]
  },
  {
   "cell_type": "code",
   "execution_count": 53,
   "id": "ee814846",
   "metadata": {},
   "outputs": [
    {
     "data": {
      "text/plain": [
       "4      307\n",
       "3      294\n",
       "5      287\n",
       "6      266\n",
       "2      245\n",
       "      ... \n",
       "645      1\n",
       "610      1\n",
       "783      1\n",
       "626      1\n",
       "585      1\n",
       "Name: registered, Length: 776, dtype: int64"
      ]
     },
     "execution_count": 53,
     "metadata": {},
     "output_type": "execute_result"
    }
   ],
   "source": [
    "df[\"registered\"].value_counts()"
   ]
  },
  {
   "cell_type": "code",
   "execution_count": 54,
   "id": "17aae701",
   "metadata": {},
   "outputs": [
    {
     "data": {
      "text/plain": [
       "<Axes: xlabel='registered', ylabel='Count'>"
      ]
     },
     "execution_count": 54,
     "metadata": {},
     "output_type": "execute_result"
    },
    {
     "data": {
      "image/png": "[encoded data removed]",
      "text/plain": [
       "<Figure size 640x480 with 1 Axes>"
      ]
     },
     "metadata": {},
     "output_type": "display_data"
    }
   ],
   "source": [
    "# Plotting histogram for \"registered\" column\n",
    "sns.histplot(x=\"registered\", data=df)"
   ]
  },
  {
   "cell_type": "code",
   "execution_count": 55,
   "id": "ed722356",
   "metadata": {},
   "outputs": [],
   "source": [
    "# Using log1p transformation\n",
    "df[\"registered\"] = np.log1p(df[\"registered\"])"
   ]
  },
  {
   "cell_type": "code",
   "execution_count": 56,
   "id": "b6810dbb",
   "metadata": {},
   "outputs": [
    {
     "data": {
      "text/plain": [
       "-0.8196438280984477"
      ]
     },
     "execution_count": 56,
     "metadata": {},
     "output_type": "execute_result"
    }
   ],
   "source": [
    "# Checking skewness for \"registered\" column\n",
    "df[\"registered\"].skew()"
   ]
  },
  {
   "cell_type": "code",
   "execution_count": 57,
   "id": "10be9433",
   "metadata": {},
   "outputs": [
    {
     "data": {
      "text/plain": [
       "5      260\n",
       "6      236\n",
       "4      231\n",
       "3      224\n",
       "2      208\n",
       "      ... \n",
       "913      1\n",
       "847      1\n",
       "777      1\n",
       "661      1\n",
       "636      1\n",
       "Name: cnt, Length: 869, dtype: int64"
      ]
     },
     "execution_count": 57,
     "metadata": {},
     "output_type": "execute_result"
    }
   ],
   "source": [
    "df[\"cnt\"].value_counts()\n"
   ]
  },
  {
   "cell_type": "code",
   "execution_count": 58,
   "id": "2e27339a",
   "metadata": {},
   "outputs": [
    {
     "data": {
      "text/plain": [
       "<Axes: xlabel='cnt', ylabel='Count'>"
      ]
     },
     "execution_count": 58,
     "metadata": {},
     "output_type": "execute_result"
    },
    {
     "data": {
      "image/png": "[encoded data removed]",
      "text/plain": [
       "<Figure size 640x480 with 1 Axes>"
      ]
     },
     "metadata": {},
     "output_type": "display_data"
    }
   ],
   "source": [
    "# Plotting histogram for \"cnt\" column\n",
    "sns.histplot(x=\"cnt\", data=df)"
   ]
  },
  {
   "cell_type": "code",
   "execution_count": 59,
   "id": "866c7423",
   "metadata": {},
   "outputs": [],
   "source": [
    "# Using log1p transformation\n",
    "df[\"cnt\"] = np.log1p(df[\"cnt\"])"
   ]
  },
  {
   "cell_type": "code",
   "execution_count": 60,
   "id": "981420df",
   "metadata": {},
   "outputs": [
    {
     "data": {
      "text/plain": [
       "-0.8181803744437345"
      ]
     },
     "execution_count": 60,
     "metadata": {},
     "output_type": "execute_result"
    }
   ],
   "source": [
    "# Checking skewness for \"cnt\" column\n",
    "df[\"cnt\"].skew()"
   ]
  },
  {
   "cell_type": "code",
   "execution_count": 61,
   "id": "466ac988",
   "metadata": {},
   "outputs": [
    {
     "data": {
      "text/plain": [
       "<Axes: xlabel='cnt', ylabel='Count'>"
      ]
     },
     "execution_count": 61,
     "metadata": {},
     "output_type": "execute_result"
    },
    {
     "data": {
      "image/png": "[encoded data removed]",
      "text/plain": [
       "<Figure size 640x480 with 1 Axes>"
      ]
     },
     "metadata": {},
     "output_type": "display_data"
    }
   ],
   "source": [
    "# Plotting histogram for \"cnt\" column\n",
    "sns.histplot(x=\"cnt\", data=df)"
   ]
  },
  {
   "cell_type": "code",
   "execution_count": 62,
   "id": "dd3f0680",
   "metadata": {
    "scrolled": true
   },
   "outputs": [
    {
     "data": {
      "text/plain": [
       "array(['2011-01-01T00:00:00.000000000', '2011-01-02T00:00:00.000000000',\n",
       "       '2011-01-03T00:00:00.000000000', '2011-01-04T00:00:00.000000000',\n",
       "       '2011-01-05T00:00:00.000000000', '2011-01-06T00:00:00.000000000',\n",
       "       '2011-01-07T00:00:00.000000000', '2011-01-08T00:00:00.000000000',\n",
       "       '2011-01-09T00:00:00.000000000', '2011-01-10T00:00:00.000000000',\n",
       "       '2011-01-11T00:00:00.000000000', '2011-01-12T00:00:00.000000000',\n",
       "       '2011-01-13T00:00:00.000000000', '2011-01-14T00:00:00.000000000',\n",
       "       '2011-01-15T00:00:00.000000000', '2011-01-16T00:00:00.000000000',\n",
       "       '2011-01-17T00:00:00.000000000', '2011-01-18T00:00:00.000000000',\n",
       "       '2011-01-19T00:00:00.000000000', '2011-01-20T00:00:00.000000000',\n",
       "       '2011-01-21T00:00:00.000000000', '2011-01-22T00:00:00.000000000',\n",
       "       '2011-01-23T00:00:00.000000000', '2011-01-24T00:00:00.000000000',\n",
       "       '2011-01-25T00:00:00.000000000', '2011-01-26T00:00:00.000000000',\n",
       "       '2011-01-27T00:00:00.000000000', '2011-01-28T00:00:00.000000000',\n",
       "       '2011-01-29T00:00:00.000000000', '2011-01-30T00:00:00.000000000',\n",
       "       '2011-01-31T00:00:00.000000000', '2011-02-01T00:00:00.000000000',\n",
       "       '2011-02-02T00:00:00.000000000', '2011-02-03T00:00:00.000000000',\n",
       "       '2011-02-04T00:00:00.000000000', '2011-02-05T00:00:00.000000000',\n",
       "       '2011-02-06T00:00:00.000000000', '2011-02-07T00:00:00.000000000',\n",
       "       '2011-02-08T00:00:00.000000000', '2011-02-09T00:00:00.000000000',\n",
       "       '2011-02-10T00:00:00.000000000', '2011-02-11T00:00:00.000000000',\n",
       "       '2011-02-12T00:00:00.000000000', '2011-02-13T00:00:00.000000000',\n",
       "       '2011-02-14T00:00:00.000000000', '2011-02-15T00:00:00.000000000',\n",
       "       '2011-02-16T00:00:00.000000000', '2011-02-17T00:00:00.000000000',\n",
       "       '2011-02-18T00:00:00.000000000', '2011-02-19T00:00:00.000000000',\n",
       "       '2011-02-20T00:00:00.000000000', '2011-02-21T00:00:00.000000000',\n",
       "       '2011-02-22T00:00:00.000000000', '2011-02-23T00:00:00.000000000',\n",
       "       '2011-02-24T00:00:00.000000000', '2011-02-25T00:00:00.000000000',\n",
       "       '2011-02-26T00:00:00.000000000', '2011-02-27T00:00:00.000000000',\n",
       "       '2011-02-28T00:00:00.000000000', '2011-03-01T00:00:00.000000000',\n",
       "       '2011-03-02T00:00:00.000000000', '2011-03-03T00:00:00.000000000',\n",
       "       '2011-03-04T00:00:00.000000000', '2011-03-05T00:00:00.000000000',\n",
       "       '2011-03-06T00:00:00.000000000', '2011-03-07T00:00:00.000000000',\n",
       "       '2011-03-08T00:00:00.000000000', '2011-03-09T00:00:00.000000000',\n",
       "       '2011-03-10T00:00:00.000000000', '2011-03-11T00:00:00.000000000',\n",
       "       '2011-03-12T00:00:00.000000000', '2011-03-13T00:00:00.000000000',\n",
       "       '2011-03-14T00:00:00.000000000', '2011-03-15T00:00:00.000000000',\n",
       "       '2011-03-16T00:00:00.000000000', '2011-03-17T00:00:00.000000000',\n",
       "       '2011-03-18T00:00:00.000000000', '2011-03-19T00:00:00.000000000',\n",
       "       '2011-03-20T00:00:00.000000000', '2011-03-21T00:00:00.000000000',\n",
       "       '2011-03-22T00:00:00.000000000', '2011-03-23T00:00:00.000000000',\n",
       "       '2011-03-24T00:00:00.000000000', '2011-03-25T00:00:00.000000000',\n",
       "       '2011-03-26T00:00:00.000000000', '2011-03-27T00:00:00.000000000',\n",
       "       '2011-03-28T00:00:00.000000000', '2011-03-29T00:00:00.000000000',\n",
       "       '2011-03-30T00:00:00.000000000', '2011-03-31T00:00:00.000000000',\n",
       "       '2011-04-01T00:00:00.000000000', '2011-04-02T00:00:00.000000000',\n",
       "       '2011-04-03T00:00:00.000000000', '2011-04-04T00:00:00.000000000',\n",
       "       '2011-04-05T00:00:00.000000000', '2011-04-06T00:00:00.000000000',\n",
       "       '2011-04-07T00:00:00.000000000', '2011-04-08T00:00:00.000000000',\n",
       "       '2011-04-09T00:00:00.000000000', '2011-04-10T00:00:00.000000000',\n",
       "       '2011-04-11T00:00:00.000000000', '2011-04-12T00:00:00.000000000',\n",
       "       '2011-04-13T00:00:00.000000000', '2011-04-14T00:00:00.000000000',\n",
       "       '2011-04-15T00:00:00.000000000', '2011-04-16T00:00:00.000000000',\n",
       "       '2011-04-17T00:00:00.000000000', '2011-04-18T00:00:00.000000000',\n",
       "       '2011-04-19T00:00:00.000000000', '2011-04-20T00:00:00.000000000',\n",
       "       '2011-04-21T00:00:00.000000000', '2011-04-22T00:00:00.000000000',\n",
       "       '2011-04-23T00:00:00.000000000', '2011-04-24T00:00:00.000000000',\n",
       "       '2011-04-25T00:00:00.000000000', '2011-04-26T00:00:00.000000000',\n",
       "       '2011-04-27T00:00:00.000000000', '2011-04-28T00:00:00.000000000',\n",
       "       '2011-04-29T00:00:00.000000000', '2011-04-30T00:00:00.000000000',\n",
       "       '2011-05-01T00:00:00.000000000', '2011-05-02T00:00:00.000000000',\n",
       "       '2011-05-03T00:00:00.000000000', '2011-05-04T00:00:00.000000000',\n",
       "       '2011-05-05T00:00:00.000000000', '2011-05-06T00:00:00.000000000',\n",
       "       '2011-05-07T00:00:00.000000000', '2011-05-08T00:00:00.000000000',\n",
       "       '2011-05-09T00:00:00.000000000', '2011-05-10T00:00:00.000000000',\n",
       "       '2011-05-11T00:00:00.000000000', '2011-05-12T00:00:00.000000000',\n",
       "       '2011-05-13T00:00:00.000000000', '2011-05-14T00:00:00.000000000',\n",
       "       '2011-05-15T00:00:00.000000000', '2011-05-16T00:00:00.000000000',\n",
       "       '2011-05-17T00:00:00.000000000', '2011-05-18T00:00:00.000000000',\n",
       "       '2011-05-19T00:00:00.000000000', '2011-05-20T00:00:00.000000000',\n",
       "       '2011-05-21T00:00:00.000000000', '2011-05-22T00:00:00.000000000',\n",
       "       '2011-05-23T00:00:00.000000000', '2011-05-24T00:00:00.000000000',\n",
       "       '2011-05-25T00:00:00.000000000', '2011-05-26T00:00:00.000000000',\n",
       "       '2011-05-27T00:00:00.000000000', '2011-05-28T00:00:00.000000000',\n",
       "       '2011-05-29T00:00:00.000000000', '2011-05-30T00:00:00.000000000',\n",
       "       '2011-05-31T00:00:00.000000000', '2011-06-01T00:00:00.000000000',\n",
       "       '2011-06-02T00:00:00.000000000', '2011-06-03T00:00:00.000000000',\n",
       "       '2011-06-04T00:00:00.000000000', '2011-06-05T00:00:00.000000000',\n",
       "       '2011-06-06T00:00:00.000000000', '2011-06-07T00:00:00.000000000',\n",
       "       '2011-06-08T00:00:00.000000000', '2011-06-09T00:00:00.000000000',\n",
       "       '2011-06-10T00:00:00.000000000', '2011-06-11T00:00:00.000000000',\n",
       "       '2011-06-12T00:00:00.000000000', '2011-06-13T00:00:00.000000000',\n",
       "       '2011-06-14T00:00:00.000000000', '2011-06-15T00:00:00.000000000',\n",
       "       '2011-06-16T00:00:00.000000000', '2011-06-17T00:00:00.000000000',\n",
       "       '2011-06-18T00:00:00.000000000', '2011-06-19T00:00:00.000000000',\n",
       "       '2011-06-20T00:00:00.000000000', '2011-06-21T00:00:00.000000000',\n",
       "       '2011-06-22T00:00:00.000000000', '2011-06-23T00:00:00.000000000',\n",
       "       '2011-06-24T00:00:00.000000000', '2011-06-25T00:00:00.000000000',\n",
       "       '2011-06-26T00:00:00.000000000', '2011-06-27T00:00:00.000000000',\n",
       "       '2011-06-28T00:00:00.000000000', '2011-06-29T00:00:00.000000000',\n",
       "       '2011-06-30T00:00:00.000000000', '2011-07-01T00:00:00.000000000',\n",
       "       '2011-07-02T00:00:00.000000000', '2011-07-03T00:00:00.000000000',\n",
       "       '2011-07-04T00:00:00.000000000', '2011-07-05T00:00:00.000000000',\n",
       "       '2011-07-06T00:00:00.000000000', '2011-07-07T00:00:00.000000000',\n",
       "       '2011-07-08T00:00:00.000000000', '2011-07-09T00:00:00.000000000',\n",
       "       '2011-07-10T00:00:00.000000000', '2011-07-11T00:00:00.000000000',\n",
       "       '2011-07-12T00:00:00.000000000', '2011-07-13T00:00:00.000000000',\n",
       "       '2011-07-14T00:00:00.000000000', '2011-07-15T00:00:00.000000000',\n",
       "       '2011-07-16T00:00:00.000000000', '2011-07-17T00:00:00.000000000',\n",
       "       '2011-07-18T00:00:00.000000000', '2011-07-19T00:00:00.000000000',\n",
       "       '2011-07-20T00:00:00.000000000', '2011-07-21T00:00:00.000000000',\n",
       "       '2011-07-22T00:00:00.000000000', '2011-07-23T00:00:00.000000000',\n",
       "       '2011-07-24T00:00:00.000000000', '2011-07-25T00:00:00.000000000',\n",
       "       '2011-07-26T00:00:00.000000000', '2011-07-27T00:00:00.000000000',\n",
       "       '2011-07-28T00:00:00.000000000', '2011-07-29T00:00:00.000000000',\n",
       "       '2011-07-30T00:00:00.000000000', '2011-07-31T00:00:00.000000000',\n",
       "       '2011-08-01T00:00:00.000000000', '2011-08-02T00:00:00.000000000',\n",
       "       '2011-08-03T00:00:00.000000000', '2011-08-04T00:00:00.000000000',\n",
       "       '2011-08-05T00:00:00.000000000', '2011-08-06T00:00:00.000000000',\n",
       "       '2011-08-07T00:00:00.000000000', '2011-08-08T00:00:00.000000000',\n",
       "       '2011-08-09T00:00:00.000000000', '2011-08-10T00:00:00.000000000',\n",
       "       '2011-08-11T00:00:00.000000000', '2011-08-12T00:00:00.000000000',\n",
       "       '2011-08-13T00:00:00.000000000', '2011-08-14T00:00:00.000000000',\n",
       "       '2011-08-15T00:00:00.000000000', '2011-08-16T00:00:00.000000000',\n",
       "       '2011-08-17T00:00:00.000000000', '2011-08-18T00:00:00.000000000',\n",
       "       '2011-08-19T00:00:00.000000000', '2011-08-20T00:00:00.000000000',\n",
       "       '2011-08-21T00:00:00.000000000', '2011-08-22T00:00:00.000000000',\n",
       "       '2011-08-23T00:00:00.000000000', '2011-08-24T00:00:00.000000000',\n",
       "       '2011-08-25T00:00:00.000000000', '2011-08-26T00:00:00.000000000',\n",
       "       '2011-08-27T00:00:00.000000000', '2011-08-28T00:00:00.000000000',\n",
       "       '2011-08-29T00:00:00.000000000', '2011-08-30T00:00:00.000000000',\n",
       "       '2011-08-31T00:00:00.000000000', '2011-09-01T00:00:00.000000000',\n",
       "       '2011-09-02T00:00:00.000000000', '2011-09-03T00:00:00.000000000',\n",
       "       '2011-09-04T00:00:00.000000000', '2011-09-05T00:00:00.000000000',\n",
       "       '2011-09-06T00:00:00.000000000', '2011-09-07T00:00:00.000000000',\n",
       "       '2011-09-08T00:00:00.000000000', '2011-09-09T00:00:00.000000000',\n",
       "       '2011-09-10T00:00:00.000000000', '2011-09-11T00:00:00.000000000',\n",
       "       '2011-09-12T00:00:00.000000000', '2011-09-13T00:00:00.000000000',\n",
       "       '2011-09-14T00:00:00.000000000', '2011-09-15T00:00:00.000000000',\n",
       "       '2011-09-16T00:00:00.000000000', '2011-09-17T00:00:00.000000000',\n",
       "       '2011-09-18T00:00:00.000000000', '2011-09-19T00:00:00.000000000',\n",
       "       '2011-09-20T00:00:00.000000000', '2011-09-21T00:00:00.000000000',\n",
       "       '2011-09-22T00:00:00.000000000', '2011-09-23T00:00:00.000000000',\n",
       "       '2011-09-24T00:00:00.000000000', '2011-09-25T00:00:00.000000000',\n",
       "       '2011-09-26T00:00:00.000000000', '2011-09-27T00:00:00.000000000',\n",
       "       '2011-09-28T00:00:00.000000000', '2011-09-29T00:00:00.000000000',\n",
       "       '2011-09-30T00:00:00.000000000', '2011-10-01T00:00:00.000000000',\n",
       "       '2011-10-02T00:00:00.000000000', '2011-10-03T00:00:00.000000000',\n",
       "       '2011-10-04T00:00:00.000000000', '2011-10-05T00:00:00.000000000',\n",
       "       '2011-10-06T00:00:00.000000000', '2011-10-07T00:00:00.000000000',\n",
       "       '2011-10-08T00:00:00.000000000', '2011-10-09T00:00:00.000000000',\n",
       "       '2011-10-10T00:00:00.000000000', '2011-10-11T00:00:00.000000000',\n",
       "       '2011-10-12T00:00:00.000000000', '2011-10-13T00:00:00.000000000',\n",
       "       '2011-10-14T00:00:00.000000000', '2011-10-15T00:00:00.000000000',\n",
       "       '2011-10-16T00:00:00.000000000', '2011-10-17T00:00:00.000000000',\n",
       "       '2011-10-18T00:00:00.000000000', '2011-10-19T00:00:00.000000000',\n",
       "       '2011-10-20T00:00:00.000000000', '2011-10-21T00:00:00.000000000',\n",
       "       '2011-10-22T00:00:00.000000000', '2011-10-23T00:00:00.000000000',\n",
       "       '2011-10-24T00:00:00.000000000', '2011-10-25T00:00:00.000000000',\n",
       "       '2011-10-26T00:00:00.000000000', '2011-10-27T00:00:00.000000000',\n",
       "       '2011-10-28T00:00:00.000000000', '2011-10-29T00:00:00.000000000',\n",
       "       '2011-10-30T00:00:00.000000000', '2011-10-31T00:00:00.000000000',\n",
       "       '2011-11-01T00:00:00.000000000', '2011-11-02T00:00:00.000000000',\n",
       "       '2011-11-03T00:00:00.000000000', '2011-11-04T00:00:00.000000000',\n",
       "       '2011-11-05T00:00:00.000000000', '2011-11-06T00:00:00.000000000',\n",
       "       '2011-11-07T00:00:00.000000000', '2011-11-08T00:00:00.000000000',\n",
       "       '2011-11-09T00:00:00.000000000', '2011-11-10T00:00:00.000000000',\n",
       "       '2011-11-11T00:00:00.000000000', '2011-11-12T00:00:00.000000000',\n",
       "       '2011-11-13T00:00:00.000000000', '2011-11-14T00:00:00.000000000',\n",
       "       '2011-11-15T00:00:00.000000000', '2011-11-16T00:00:00.000000000',\n",
       "       '2011-11-17T00:00:00.000000000', '2011-11-18T00:00:00.000000000',\n",
       "       '2011-11-19T00:00:00.000000000', '2011-11-20T00:00:00.000000000',\n",
       "       '2011-11-21T00:00:00.000000000', '2011-11-22T00:00:00.000000000',\n",
       "       '2011-11-23T00:00:00.000000000', '2011-11-24T00:00:00.000000000',\n",
       "       '2011-11-25T00:00:00.000000000', '2011-11-26T00:00:00.000000000',\n",
       "       '2011-11-27T00:00:00.000000000', '2011-11-28T00:00:00.000000000',\n",
       "       '2011-11-29T00:00:00.000000000', '2011-11-30T00:00:00.000000000',\n",
       "       '2011-12-01T00:00:00.000000000', '2011-12-02T00:00:00.000000000',\n",
       "       '2011-12-03T00:00:00.000000000', '2011-12-04T00:00:00.000000000',\n",
       "       '2011-12-05T00:00:00.000000000', '2011-12-06T00:00:00.000000000',\n",
       "       '2011-12-07T00:00:00.000000000', '2011-12-08T00:00:00.000000000',\n",
       "       '2011-12-09T00:00:00.000000000', '2011-12-10T00:00:00.000000000',\n",
       "       '2011-12-11T00:00:00.000000000', '2011-12-12T00:00:00.000000000',\n",
       "       '2011-12-13T00:00:00.000000000', '2011-12-14T00:00:00.000000000',\n",
       "       '2011-12-15T00:00:00.000000000', '2011-12-16T00:00:00.000000000',\n",
       "       '2011-12-17T00:00:00.000000000', '2011-12-18T00:00:00.000000000',\n",
       "       '2011-12-19T00:00:00.000000000', '2011-12-20T00:00:00.000000000',\n",
       "       '2011-12-21T00:00:00.000000000', '2011-12-22T00:00:00.000000000',\n",
       "       '2011-12-23T00:00:00.000000000', '2011-12-24T00:00:00.000000000',\n",
       "       '2011-12-25T00:00:00.000000000', '2011-12-26T00:00:00.000000000',\n",
       "       '2011-12-27T00:00:00.000000000', '2011-12-28T00:00:00.000000000',\n",
       "       '2011-12-29T00:00:00.000000000', '2011-12-30T00:00:00.000000000',\n",
       "       '2011-12-31T00:00:00.000000000', '2012-01-01T00:00:00.000000000',\n",
       "       '2012-01-02T00:00:00.000000000', '2012-01-03T00:00:00.000000000',\n",
       "       '2012-01-04T00:00:00.000000000', '2012-01-05T00:00:00.000000000',\n",
       "       '2012-01-06T00:00:00.000000000', '2012-01-07T00:00:00.000000000',\n",
       "       '2012-01-08T00:00:00.000000000', '2012-01-09T00:00:00.000000000',\n",
       "       '2012-01-10T00:00:00.000000000', '2012-01-11T00:00:00.000000000',\n",
       "       '2012-01-12T00:00:00.000000000', '2012-01-13T00:00:00.000000000',\n",
       "       '2012-01-14T00:00:00.000000000', '2012-01-15T00:00:00.000000000',\n",
       "       '2012-01-16T00:00:00.000000000', '2012-01-17T00:00:00.000000000',\n",
       "       '2012-01-18T00:00:00.000000000', '2012-01-19T00:00:00.000000000',\n",
       "       '2012-01-20T00:00:00.000000000', '2012-01-21T00:00:00.000000000',\n",
       "       '2012-01-22T00:00:00.000000000', '2012-01-23T00:00:00.000000000',\n",
       "       '2012-01-24T00:00:00.000000000', '2012-01-25T00:00:00.000000000',\n",
       "       '2012-01-26T00:00:00.000000000', '2012-01-27T00:00:00.000000000',\n",
       "       '2012-01-28T00:00:00.000000000', '2012-01-29T00:00:00.000000000',\n",
       "       '2012-01-30T00:00:00.000000000', '2012-01-31T00:00:00.000000000',\n",
       "       '2012-02-01T00:00:00.000000000', '2012-02-02T00:00:00.000000000',\n",
       "       '2012-02-03T00:00:00.000000000', '2012-02-04T00:00:00.000000000',\n",
       "       '2012-02-05T00:00:00.000000000', '2012-02-06T00:00:00.000000000',\n",
       "       '2012-02-07T00:00:00.000000000', '2012-02-08T00:00:00.000000000',\n",
       "       '2012-02-09T00:00:00.000000000', '2012-02-10T00:00:00.000000000',\n",
       "       '2012-02-11T00:00:00.000000000', '2012-02-12T00:00:00.000000000',\n",
       "       '2012-02-13T00:00:00.000000000', '2012-02-14T00:00:00.000000000',\n",
       "       '2012-02-15T00:00:00.000000000', '2012-02-16T00:00:00.000000000',\n",
       "       '2012-02-17T00:00:00.000000000', '2012-02-18T00:00:00.000000000',\n",
       "       '2012-02-19T00:00:00.000000000', '2012-02-20T00:00:00.000000000',\n",
       "       '2012-02-21T00:00:00.000000000', '2012-02-22T00:00:00.000000000',\n",
       "       '2012-02-23T00:00:00.000000000', '2012-02-24T00:00:00.000000000',\n",
       "       '2012-02-25T00:00:00.000000000', '2012-02-26T00:00:00.000000000',\n",
       "       '2012-02-27T00:00:00.000000000', '2012-02-28T00:00:00.000000000',\n",
       "       '2012-02-29T00:00:00.000000000', '2012-03-01T00:00:00.000000000',\n",
       "       '2012-03-02T00:00:00.000000000', '2012-03-03T00:00:00.000000000',\n",
       "       '2012-03-04T00:00:00.000000000', '2012-03-05T00:00:00.000000000',\n",
       "       '2012-03-06T00:00:00.000000000', '2012-03-07T00:00:00.000000000',\n",
       "       '2012-03-08T00:00:00.000000000', '2012-03-09T00:00:00.000000000',\n",
       "       '2012-03-10T00:00:00.000000000', '2012-03-11T00:00:00.000000000',\n",
       "       '2012-03-12T00:00:00.000000000', '2012-03-13T00:00:00.000000000',\n",
       "       '2012-03-14T00:00:00.000000000', '2012-03-15T00:00:00.000000000',\n",
       "       '2012-03-16T00:00:00.000000000', '2012-03-17T00:00:00.000000000',\n",
       "       '2012-03-18T00:00:00.000000000', '2012-03-19T00:00:00.000000000',\n",
       "       '2012-03-20T00:00:00.000000000', '2012-03-21T00:00:00.000000000',\n",
       "       '2012-03-22T00:00:00.000000000', '2012-03-23T00:00:00.000000000',\n",
       "       '2012-03-24T00:00:00.000000000', '2012-03-25T00:00:00.000000000',\n",
       "       '2012-03-26T00:00:00.000000000', '2012-03-27T00:00:00.000000000',\n",
       "       '2012-03-28T00:00:00.000000000', '2012-03-29T00:00:00.000000000',\n",
       "       '2012-03-30T00:00:00.000000000', '2012-03-31T00:00:00.000000000',\n",
       "       '2012-04-01T00:00:00.000000000', '2012-04-02T00:00:00.000000000',\n",
       "       '2012-04-03T00:00:00.000000000', '2012-04-04T00:00:00.000000000',\n",
       "       '2012-04-05T00:00:00.000000000', '2012-04-06T00:00:00.000000000',\n",
       "       '2012-04-07T00:00:00.000000000', '2012-04-08T00:00:00.000000000',\n",
       "       '2012-04-09T00:00:00.000000000', '2012-04-10T00:00:00.000000000',\n",
       "       '2012-04-11T00:00:00.000000000', '2012-04-12T00:00:00.000000000',\n",
       "       '2012-04-13T00:00:00.000000000', '2012-04-14T00:00:00.000000000',\n",
       "       '2012-04-15T00:00:00.000000000', '2012-04-16T00:00:00.000000000',\n",
       "       '2012-04-17T00:00:00.000000000', '2012-04-18T00:00:00.000000000',\n",
       "       '2012-04-19T00:00:00.000000000', '2012-04-20T00:00:00.000000000',\n",
       "       '2012-04-21T00:00:00.000000000', '2012-04-22T00:00:00.000000000',\n",
       "       '2012-04-23T00:00:00.000000000', '2012-04-24T00:00:00.000000000',\n",
       "       '2012-04-25T00:00:00.000000000', '2012-04-26T00:00:00.000000000',\n",
       "       '2012-04-27T00:00:00.000000000', '2012-04-28T00:00:00.000000000',\n",
       "       '2012-04-29T00:00:00.000000000', '2012-04-30T00:00:00.000000000',\n",
       "       '2012-05-01T00:00:00.000000000', '2012-05-02T00:00:00.000000000',\n",
       "       '2012-05-03T00:00:00.000000000', '2012-05-04T00:00:00.000000000',\n",
       "       '2012-05-05T00:00:00.000000000', '2012-05-06T00:00:00.000000000',\n",
       "       '2012-05-07T00:00:00.000000000', '2012-05-08T00:00:00.000000000',\n",
       "       '2012-05-09T00:00:00.000000000', '2012-05-10T00:00:00.000000000',\n",
       "       '2012-05-11T00:00:00.000000000', '2012-05-12T00:00:00.000000000',\n",
       "       '2012-05-13T00:00:00.000000000', '2012-05-14T00:00:00.000000000',\n",
       "       '2012-05-15T00:00:00.000000000', '2012-05-16T00:00:00.000000000',\n",
       "       '2012-05-17T00:00:00.000000000', '2012-05-18T00:00:00.000000000',\n",
       "       '2012-05-19T00:00:00.000000000', '2012-05-20T00:00:00.000000000',\n",
       "       '2012-05-21T00:00:00.000000000', '2012-05-22T00:00:00.000000000',\n",
       "       '2012-05-23T00:00:00.000000000', '2012-05-24T00:00:00.000000000',\n",
       "       '2012-05-25T00:00:00.000000000', '2012-05-26T00:00:00.000000000',\n",
       "       '2012-05-27T00:00:00.000000000', '2012-05-28T00:00:00.000000000',\n",
       "       '2012-05-29T00:00:00.000000000', '2012-05-30T00:00:00.000000000',\n",
       "       '2012-05-31T00:00:00.000000000', '2012-06-01T00:00:00.000000000',\n",
       "       '2012-06-02T00:00:00.000000000', '2012-06-03T00:00:00.000000000',\n",
       "       '2012-06-04T00:00:00.000000000', '2012-06-05T00:00:00.000000000',\n",
       "       '2012-06-06T00:00:00.000000000', '2012-06-07T00:00:00.000000000',\n",
       "       '2012-06-08T00:00:00.000000000', '2012-06-09T00:00:00.000000000',\n",
       "       '2012-06-10T00:00:00.000000000', '2012-06-11T00:00:00.000000000',\n",
       "       '2012-06-12T00:00:00.000000000', '2012-06-13T00:00:00.000000000',\n",
       "       '2012-06-14T00:00:00.000000000', '2012-06-15T00:00:00.000000000',\n",
       "       '2012-06-16T00:00:00.000000000', '2012-06-17T00:00:00.000000000',\n",
       "       '2012-06-18T00:00:00.000000000', '2012-06-19T00:00:00.000000000',\n",
       "       '2012-06-20T00:00:00.000000000', '2012-06-21T00:00:00.000000000',\n",
       "       '2012-06-22T00:00:00.000000000', '2012-06-23T00:00:00.000000000',\n",
       "       '2012-06-24T00:00:00.000000000', '2012-06-25T00:00:00.000000000',\n",
       "       '2012-06-26T00:00:00.000000000', '2012-06-27T00:00:00.000000000',\n",
       "       '2012-06-28T00:00:00.000000000', '2012-06-29T00:00:00.000000000',\n",
       "       '2012-06-30T00:00:00.000000000', '2012-07-01T00:00:00.000000000',\n",
       "       '2012-07-02T00:00:00.000000000', '2012-07-03T00:00:00.000000000',\n",
       "       '2012-07-04T00:00:00.000000000', '2012-07-05T00:00:00.000000000',\n",
       "       '2012-07-06T00:00:00.000000000', '2012-07-07T00:00:00.000000000',\n",
       "       '2012-07-08T00:00:00.000000000', '2012-07-09T00:00:00.000000000',\n",
       "       '2012-07-10T00:00:00.000000000', '2012-07-11T00:00:00.000000000',\n",
       "       '2012-07-12T00:00:00.000000000', '2012-07-13T00:00:00.000000000',\n",
       "       '2012-07-14T00:00:00.000000000', '2012-07-15T00:00:00.000000000',\n",
       "       '2012-07-16T00:00:00.000000000', '2012-07-17T00:00:00.000000000',\n",
       "       '2012-07-18T00:00:00.000000000', '2012-07-19T00:00:00.000000000',\n",
       "       '2012-07-20T00:00:00.000000000', '2012-07-21T00:00:00.000000000',\n",
       "       '2012-07-22T00:00:00.000000000', '2012-07-23T00:00:00.000000000',\n",
       "       '2012-07-24T00:00:00.000000000', '2012-07-25T00:00:00.000000000',\n",
       "       '2012-07-26T00:00:00.000000000', '2012-07-27T00:00:00.000000000',\n",
       "       '2012-07-28T00:00:00.000000000', '2012-07-29T00:00:00.000000000',\n",
       "       '2012-07-30T00:00:00.000000000', '2012-07-31T00:00:00.000000000',\n",
       "       '2012-08-01T00:00:00.000000000', '2012-08-02T00:00:00.000000000',\n",
       "       '2012-08-03T00:00:00.000000000', '2012-08-04T00:00:00.000000000',\n",
       "       '2012-08-05T00:00:00.000000000', '2012-08-06T00:00:00.000000000',\n",
       "       '2012-08-07T00:00:00.000000000', '2012-08-08T00:00:00.000000000',\n",
       "       '2012-08-09T00:00:00.000000000', '2012-08-10T00:00:00.000000000',\n",
       "       '2012-08-11T00:00:00.000000000', '2012-08-12T00:00:00.000000000',\n",
       "       '2012-08-13T00:00:00.000000000', '2012-08-14T00:00:00.000000000',\n",
       "       '2012-08-15T00:00:00.000000000', '2012-08-16T00:00:00.000000000',\n",
       "       '2012-08-17T00:00:00.000000000', '2012-08-18T00:00:00.000000000',\n",
       "       '2012-08-19T00:00:00.000000000', '2012-08-20T00:00:00.000000000',\n",
       "       '2012-08-21T00:00:00.000000000', '2012-08-22T00:00:00.000000000',\n",
       "       '2012-08-23T00:00:00.000000000', '2012-08-24T00:00:00.000000000',\n",
       "       '2012-08-25T00:00:00.000000000', '2012-08-26T00:00:00.000000000',\n",
       "       '2012-08-27T00:00:00.000000000', '2012-08-28T00:00:00.000000000',\n",
       "       '2012-08-29T00:00:00.000000000', '2012-08-30T00:00:00.000000000',\n",
       "       '2012-08-31T00:00:00.000000000', '2012-09-01T00:00:00.000000000',\n",
       "       '2012-09-02T00:00:00.000000000', '2012-09-03T00:00:00.000000000',\n",
       "       '2012-09-04T00:00:00.000000000', '2012-09-05T00:00:00.000000000',\n",
       "       '2012-09-06T00:00:00.000000000', '2012-09-07T00:00:00.000000000',\n",
       "       '2012-09-08T00:00:00.000000000', '2012-09-09T00:00:00.000000000',\n",
       "       '2012-09-10T00:00:00.000000000', '2012-09-11T00:00:00.000000000',\n",
       "       '2012-09-12T00:00:00.000000000', '2012-09-13T00:00:00.000000000',\n",
       "       '2012-09-14T00:00:00.000000000', '2012-09-15T00:00:00.000000000',\n",
       "       '2012-09-16T00:00:00.000000000', '2012-09-17T00:00:00.000000000',\n",
       "       '2012-09-18T00:00:00.000000000', '2012-09-19T00:00:00.000000000',\n",
       "       '2012-09-20T00:00:00.000000000', '2012-09-21T00:00:00.000000000',\n",
       "       '2012-09-22T00:00:00.000000000', '2012-09-23T00:00:00.000000000',\n",
       "       '2012-09-24T00:00:00.000000000', '2012-09-25T00:00:00.000000000',\n",
       "       '2012-09-26T00:00:00.000000000', '2012-09-27T00:00:00.000000000',\n",
       "       '2012-09-28T00:00:00.000000000', '2012-09-29T00:00:00.000000000',\n",
       "       '2012-09-30T00:00:00.000000000', '2012-10-01T00:00:00.000000000',\n",
       "       '2012-10-02T00:00:00.000000000', '2012-10-03T00:00:00.000000000',\n",
       "       '2012-10-04T00:00:00.000000000', '2012-10-05T00:00:00.000000000',\n",
       "       '2012-10-06T00:00:00.000000000', '2012-10-07T00:00:00.000000000',\n",
       "       '2012-10-08T00:00:00.000000000', '2012-10-09T00:00:00.000000000',\n",
       "       '2012-10-10T00:00:00.000000000', '2012-10-11T00:00:00.000000000',\n",
       "       '2012-10-12T00:00:00.000000000', '2012-10-13T00:00:00.000000000',\n",
       "       '2012-10-14T00:00:00.000000000', '2012-10-15T00:00:00.000000000',\n",
       "       '2012-10-16T00:00:00.000000000', '2012-10-17T00:00:00.000000000',\n",
       "       '2012-10-18T00:00:00.000000000', '2012-10-19T00:00:00.000000000',\n",
       "       '2012-10-20T00:00:00.000000000', '2012-10-21T00:00:00.000000000',\n",
       "       '2012-10-22T00:00:00.000000000', '2012-10-23T00:00:00.000000000',\n",
       "       '2012-10-24T00:00:00.000000000', '2012-10-25T00:00:00.000000000',\n",
       "       '2012-10-26T00:00:00.000000000', '2012-10-27T00:00:00.000000000',\n",
       "       '2012-10-28T00:00:00.000000000', '2012-10-29T00:00:00.000000000',\n",
       "       '2012-10-30T00:00:00.000000000', '2012-10-31T00:00:00.000000000',\n",
       "       '2012-11-01T00:00:00.000000000', '2012-11-02T00:00:00.000000000',\n",
       "       '2012-11-03T00:00:00.000000000', '2012-11-04T00:00:00.000000000',\n",
       "       '2012-11-05T00:00:00.000000000', '2012-11-06T00:00:00.000000000',\n",
       "       '2012-11-07T00:00:00.000000000', '2012-11-08T00:00:00.000000000',\n",
       "       '2012-11-09T00:00:00.000000000', '2012-11-10T00:00:00.000000000',\n",
       "       '2012-11-11T00:00:00.000000000', '2012-11-12T00:00:00.000000000',\n",
       "       '2012-11-13T00:00:00.000000000', '2012-11-14T00:00:00.000000000',\n",
       "       '2012-11-15T00:00:00.000000000', '2012-11-16T00:00:00.000000000',\n",
       "       '2012-11-17T00:00:00.000000000', '2012-11-18T00:00:00.000000000',\n",
       "       '2012-11-19T00:00:00.000000000', '2012-11-20T00:00:00.000000000',\n",
       "       '2012-11-21T00:00:00.000000000', '2012-11-22T00:00:00.000000000',\n",
       "       '2012-11-23T00:00:00.000000000', '2012-11-24T00:00:00.000000000',\n",
       "       '2012-11-25T00:00:00.000000000', '2012-11-26T00:00:00.000000000',\n",
       "       '2012-11-27T00:00:00.000000000', '2012-11-28T00:00:00.000000000',\n",
       "       '2012-11-29T00:00:00.000000000', '2012-11-30T00:00:00.000000000',\n",
       "       '2012-12-01T00:00:00.000000000', '2012-12-02T00:00:00.000000000',\n",
       "       '2012-12-03T00:00:00.000000000', '2012-12-04T00:00:00.000000000',\n",
       "       '2012-12-05T00:00:00.000000000', '2012-12-06T00:00:00.000000000',\n",
       "       '2012-12-07T00:00:00.000000000', '2012-12-08T00:00:00.000000000',\n",
       "       '2012-12-09T00:00:00.000000000', '2012-12-10T00:00:00.000000000',\n",
       "       '2012-12-11T00:00:00.000000000', '2012-12-12T00:00:00.000000000',\n",
       "       '2012-12-13T00:00:00.000000000', '2012-12-14T00:00:00.000000000',\n",
       "       '2012-12-15T00:00:00.000000000', '2012-12-16T00:00:00.000000000',\n",
       "       '2012-12-17T00:00:00.000000000', '2012-12-18T00:00:00.000000000',\n",
       "       '2012-12-19T00:00:00.000000000', '2012-12-20T00:00:00.000000000',\n",
       "       '2012-12-21T00:00:00.000000000', '2012-12-22T00:00:00.000000000',\n",
       "       '2012-12-23T00:00:00.000000000', '2012-12-24T00:00:00.000000000',\n",
       "       '2012-12-25T00:00:00.000000000', '2012-12-26T00:00:00.000000000',\n",
       "       '2012-12-27T00:00:00.000000000', '2012-12-28T00:00:00.000000000',\n",
       "       '2012-12-29T00:00:00.000000000', '2012-12-30T00:00:00.000000000',\n",
       "       '2012-12-31T00:00:00.000000000'], dtype='datetime64[ns]')"
      ]
     },
     "execution_count": 62,
     "metadata": {},
     "output_type": "execute_result"
    }
   ],
   "source": [
    "df[\"dteday\"].unique()"
   ]
  },
  {
   "cell_type": "code",
   "execution_count": 66,
   "id": "2fe92c23",
   "metadata": {},
   "outputs": [],
   "source": [
    "#df['extracted_day'] = pd.to_datetime(df['dteday']).dt.day\n"
   ]
  },
  {
   "cell_type": "code",
   "execution_count": 70,
   "id": "1f3e0d3f",
   "metadata": {},
   "outputs": [
    {
     "data": {
      "text/plain": [
       "season           category\n",
       "yr               category\n",
       "mnth             category\n",
       "hr               category\n",
       "holiday          category\n",
       "weekday          category\n",
       "workingday       category\n",
       "weathersit       category\n",
       "temp              float64\n",
       "atemp             float64\n",
       "hum               float64\n",
       "windspeed         float64\n",
       "casual            float64\n",
       "registered        float64\n",
       "cnt               float64\n",
       "extracted_day    category\n",
       "dtype: object"
      ]
     },
     "execution_count": 70,
     "metadata": {},
     "output_type": "execute_result"
    }
   ],
   "source": [
    "\n",
    "df.dtypes\n"
   ]
  },
  {
   "cell_type": "code",
   "execution_count": 71,
   "id": "b8c8d556",
   "metadata": {},
   "outputs": [],
   "source": [
    "#df['extracted_day'] = df['extracted_day'].astype('category')\n",
    "#df.drop('extracted_date', axis=1, inplace=True)"
   ]
  },
  {
   "cell_type": "code",
   "execution_count": 72,
   "id": "c2a1fee5",
   "metadata": {},
   "outputs": [
    {
     "name": "stdout",
     "output_type": "stream",
     "text": [
      "Training set shapes - X_train: (12165, 15) y_train: (12165, 1)\n",
      "Testing set shapes - X_test: (5214, 15) y_test: (5214, 1)\n"
     ]
    }
   ],
   "source": [
    "from sklearn.model_selection import train_test_split\n",
    "\n",
    "# Assuming df is your DataFrame with features (X) and target variable (y)\n",
    "X = df.drop('cnt', axis=1)  # Features\n",
    "y = df[['cnt']]  # Target variable\n",
    "\n",
    "# Split the data into training and testing sets (70-30 split)\n",
    "X_train, X_test, y_train, y_test = train_test_split(X, y, test_size=0.3, random_state=42)\n",
    "\n",
    "# Display the shapes of the resulting sets\n",
    "print(\"Training set shapes - X_train:\", X_train.shape, \"y_train:\", y_train.shape)\n",
    "print(\"Testing set shapes - X_test:\", X_test.shape, \"y_test:\", y_test.shape)\n"
   ]
  },
  {
   "cell_type": "code",
   "execution_count": 73,
   "id": "a46bb279",
   "metadata": {},
   "outputs": [],
   "source": [
    "from sklearn.linear_model import LinearRegression\n",
    "from sklearn.metrics import mean_squared_error, r2_score"
   ]
  },
  {
   "cell_type": "code",
   "execution_count": 74,
   "id": "71e3da5b",
   "metadata": {},
   "outputs": [
    {
     "data": {
      "text/html": [
       "<style>#sk-container-id-1 {color: black;background-color: white;}#sk-container-id-1 pre{padding: 0;}#sk-container-id-1 div.sk-toggleable {background-color: white;}#sk-container-id-1 label.sk-toggleable__label {cursor: pointer;display: block;width: 100%;margin-bottom: 0;padding: 0.3em;box-sizing: border-box;text-align: center;}#sk-container-id-1 label.sk-toggleable__label-arrow:before {content: \"▸\";float: left;margin-right: 0.25em;color: #696969;}#sk-container-id-1 label.sk-toggleable__label-arrow:hover:before {color: black;}#sk-container-id-1 div.sk-estimator:hover label.sk-toggleable__label-arrow:before {color: black;}#sk-container-id-1 div.sk-toggleable__content {max-height: 0;max-width: 0;overflow: hidden;text-align: left;background-color: #f0f8ff;}#sk-container-id-1 div.sk-toggleable__content pre {margin: 0.2em;color: black;border-radius: 0.25em;background-color: #f0f8ff;}#sk-container-id-1 input.sk-toggleable__control:checked~div.sk-toggleable__content {max-height: 200px;max-width: 100%;overflow: auto;}#sk-container-id-1 input.sk-toggleable__control:checked~label.sk-toggleable__label-arrow:before {content: \"▾\";}#sk-container-id-1 div.sk-estimator input.sk-toggleable__control:checked~label.sk-toggleable__label {background-color: #d4ebff;}#sk-container-id-1 div.sk-label input.sk-toggleable__control:checked~label.sk-toggleable__label {background-color: #d4ebff;}#sk-container-id-1 input.sk-hidden--visually {border: 0;clip: rect(1px 1px 1px 1px);clip: rect(1px, 1px, 1px, 1px);height: 1px;margin: -1px;overflow: hidden;padding: 0;position: absolute;width: 1px;}#sk-container-id-1 div.sk-estimator {font-family: monospace;background-color: #f0f8ff;border: 1px dotted black;border-radius: 0.25em;box-sizing: border-box;margin-bottom: 0.5em;}#sk-container-id-1 div.sk-estimator:hover {background-color: #d4ebff;}#sk-container-id-1 div.sk-parallel-item::after {content: \"\";width: 100%;border-bottom: 1px solid gray;flex-grow: 1;}#sk-container-id-1 div.sk-label:hover label.sk-toggleable__label {background-color: #d4ebff;}#sk-container-id-1 div.sk-serial::before {content: \"\";position: absolute;border-left: 1px solid gray;box-sizing: border-box;top: 0;bottom: 0;left: 50%;z-index: 0;}#sk-container-id-1 div.sk-serial {display: flex;flex-direction: column;align-items: center;background-color: white;padding-right: 0.2em;padding-left: 0.2em;position: relative;}#sk-container-id-1 div.sk-item {position: relative;z-index: 1;}#sk-container-id-1 div.sk-parallel {display: flex;align-items: stretch;justify-content: center;background-color: white;position: relative;}#sk-container-id-1 div.sk-item::before, #sk-container-id-1 div.sk-parallel-item::before {content: \"\";position: absolute;border-left: 1px solid gray;box-sizing: border-box;top: 0;bottom: 0;left: 50%;z-index: -1;}#sk-container-id-1 div.sk-parallel-item {display: flex;flex-direction: column;z-index: 1;position: relative;background-color: white;}#sk-container-id-1 div.sk-parallel-item:first-child::after {align-self: flex-end;width: 50%;}#sk-container-id-1 div.sk-parallel-item:last-child::after {align-self: flex-start;width: 50%;}#sk-container-id-1 div.sk-parallel-item:only-child::after {width: 0;}#sk-container-id-1 div.sk-dashed-wrapped {border: 1px dashed gray;margin: 0 0.4em 0.5em 0.4em;box-sizing: border-box;padding-bottom: 0.4em;background-color: white;}#sk-container-id-1 div.sk-label label {font-family: monospace;font-weight: bold;display: inline-block;line-height: 1.2em;}#sk-container-id-1 div.sk-label-container {text-align: center;}#sk-container-id-1 div.sk-container {/* jupyter's `normalize.less` sets `[hidden] { display: none; }` but bootstrap.min.css set `[hidden] { display: none !important; }` so we also need the `!important` here to be able to override the default hidden behavior on the sphinx rendered scikit-learn.org. See: https://github.com/scikit-learn/scikit-learn/issues/21755 */display: inline-block !important;position: relative;}#sk-container-id-1 div.sk-text-repr-fallback {display: none;}</style><div id=\"sk-container-id-1\" class=\"sk-top-container\"><div class=\"sk-text-repr-fallback\"><pre>LinearRegression()</pre><b>In a Jupyter environment, please rerun this cell to show the HTML representation or trust the notebook. <br />On GitHub, the HTML representation is unable to render, please try loading this page with nbviewer.org.</b></div><div class=\"sk-container\" hidden><div class=\"sk-item\"><div class=\"sk-estimator sk-toggleable\"><input class=\"sk-toggleable__control sk-hidden--visually\" id=\"sk-estimator-id-1\" type=\"checkbox\" checked><label for=\"sk-estimator-id-1\" class=\"sk-toggleable__label sk-toggleable__label-arrow\">LinearRegression</label><div class=\"sk-toggleable__content\"><pre>LinearRegression()</pre></div></div></div></div></div>"
      ],
      "text/plain": [
       "LinearRegression()"
      ]
     },
     "execution_count": 74,
     "metadata": {},
     "output_type": "execute_result"
    }
   ],
   "source": [
    "# Create a Linear Regression model\n",
    "model = LinearRegression()\n",
    "\n",
    "# Fit the model on the training data\n",
    "model.fit(X_train, y_train)"
   ]
  },
  {
   "cell_type": "code",
   "execution_count": 75,
   "id": "6893539e",
   "metadata": {},
   "outputs": [],
   "source": [
    "# function to compute adjusted R-squared\n",
    "def adj_r2_score(predictors, targets, predictions):\n",
    "    r2 = r2_score(targets, predictions)\n",
    "    n = predictors.shape[0]\n",
    "    k = predictors.shape[1]\n",
    "    return 1 - ((1 - r2) * (n - 1) / (n - k - 1))\n",
    "\n",
    "# function to compute MAPE\n",
    "def mape_score(targets, predictions):\n",
    "    return np.mean(np.abs(targets - predictions) / targets) * 100\n",
    "\n",
    "# function to compute different metrics to check performance of a regression model\n",
    "def model_performance_regression(model, predictors, target):\n",
    "    \"\"\"\n",
    "    Function to compute different metrics to check regression model performance\n",
    "\n",
    "    model: regressor\n",
    "    predictors: independent variables\n",
    "    target: dependent variable\n",
    "    \"\"\"\n",
    "\n",
    "    # predicting using the independent variables\n",
    "    pred = model.predict(predictors)\n",
    "\n",
    "    # Handling different input types\n",
    "    if isinstance(target, pd.DataFrame):\n",
    "        target = target.values.ravel()\n",
    "\n",
    "    r2 = r2_score(target, pred)  # to compute R-squared\n",
    "    adjr2 = adj_r2_score(predictors, target, pred)  # to compute adjusted R-squared\n",
    "    rmse = np.sqrt(mean_squared_error(target, pred))  # to compute RMSE\n",
    "    mae = mean_absolute_error(target, pred)  # to compute MAE\n",
    "    mape = mape_score(target, pred)  # to compute MAPE\n",
    "\n",
    "    # creating a dataframe of metrics\n",
    "    df_perf = pd.DataFrame(\n",
    "        {\n",
    "            \"RMSE\": rmse,\n",
    "            \"MAE\": mae,\n",
    "            \"R-squared\": r2,\n",
    "            \"Adj. R-squared\": adjr2,\n",
    "            \"MAPE\": mape,\n",
    "        },\n",
    "        index=[0],\n",
    "    )\n",
    "\n",
    "    return df_perf\n"
   ]
  },
  {
   "cell_type": "code",
   "execution_count": 82,
   "id": "c2d9b69b",
   "metadata": {},
   "outputs": [],
   "source": [
    "from sklearn.metrics import mean_squared_error, mean_absolute_error, r2_score\n"
   ]
  },
  {
   "cell_type": "code",
   "execution_count": 84,
   "id": "ee2f4425",
   "metadata": {
    "scrolled": true
   },
   "outputs": [
    {
     "data": {
      "text/html": [
       "<div>\n",
       "<style scoped>\n",
       "    .dataframe tbody tr th:only-of-type {\n",
       "        vertical-align: middle;\n",
       "    }\n",
       "\n",
       "    .dataframe tbody tr th {\n",
       "        vertical-align: top;\n",
       "    }\n",
       "\n",
       "    .dataframe thead th {\n",
       "        text-align: right;\n",
       "    }\n",
       "</style>\n",
       "<table border=\"1\" class=\"dataframe\">\n",
       "  <thead>\n",
       "    <tr style=\"text-align: right;\">\n",
       "      <th></th>\n",
       "      <th>RMSE</th>\n",
       "      <th>MAE</th>\n",
       "      <th>R-squared</th>\n",
       "      <th>Adj. R-squared</th>\n",
       "      <th>MAPE</th>\n",
       "    </tr>\n",
       "  </thead>\n",
       "  <tbody>\n",
       "    <tr>\n",
       "      <th>0</th>\n",
       "      <td>0.080426</td>\n",
       "      <td>0.053825</td>\n",
       "      <td>0.996781</td>\n",
       "      <td>0.996777</td>\n",
       "      <td>49.648909</td>\n",
       "    </tr>\n",
       "  </tbody>\n",
       "</table>\n",
       "</div>"
      ],
      "text/plain": [
       "       RMSE       MAE  R-squared  Adj. R-squared       MAPE\n",
       "0  0.080426  0.053825   0.996781        0.996777  49.648909"
      ]
     },
     "execution_count": 84,
     "metadata": {},
     "output_type": "execute_result"
    }
   ],
   "source": [
    "model_performance_regression(model, X_train, y_train)"
   ]
  },
  {
   "cell_type": "code",
   "execution_count": 85,
   "id": "a1ba69b7",
   "metadata": {},
   "outputs": [
    {
     "data": {
      "text/html": [
       "<div>\n",
       "<style scoped>\n",
       "    .dataframe tbody tr th:only-of-type {\n",
       "        vertical-align: middle;\n",
       "    }\n",
       "\n",
       "    .dataframe tbody tr th {\n",
       "        vertical-align: top;\n",
       "    }\n",
       "\n",
       "    .dataframe thead th {\n",
       "        text-align: right;\n",
       "    }\n",
       "</style>\n",
       "<table border=\"1\" class=\"dataframe\">\n",
       "  <thead>\n",
       "    <tr style=\"text-align: right;\">\n",
       "      <th></th>\n",
       "      <th>RMSE</th>\n",
       "      <th>MAE</th>\n",
       "      <th>R-squared</th>\n",
       "      <th>Adj. R-squared</th>\n",
       "      <th>MAPE</th>\n",
       "    </tr>\n",
       "  </thead>\n",
       "  <tbody>\n",
       "    <tr>\n",
       "      <th>0</th>\n",
       "      <td>0.082816</td>\n",
       "      <td>0.055542</td>\n",
       "      <td>0.99659</td>\n",
       "      <td>0.99658</td>\n",
       "      <td>50.431746</td>\n",
       "    </tr>\n",
       "  </tbody>\n",
       "</table>\n",
       "</div>"
      ],
      "text/plain": [
       "       RMSE       MAE  R-squared  Adj. R-squared       MAPE\n",
       "0  0.082816  0.055542    0.99659         0.99658  50.431746"
      ]
     },
     "execution_count": 85,
     "metadata": {},
     "output_type": "execute_result"
    }
   ],
   "source": [
    "model_performance_regression(model, X_test, y_test)"
   ]
  },
  {
   "cell_type": "code",
   "execution_count": 86,
   "id": "2662613b",
   "metadata": {},
   "outputs": [],
   "source": [
    "import statsmodels.api as sm\n",
    "from statsmodels.stats.outliers_influence import variance_inflation_factor"
   ]
  },
  {
   "cell_type": "code",
   "execution_count": 87,
   "id": "92fd4eb9",
   "metadata": {},
   "outputs": [
    {
     "name": "stdout",
     "output_type": "stream",
     "text": [
      "         Variable        VIF\n",
      "0           const  62.534133\n",
      "1          season   3.480590\n",
      "2              yr   1.068070\n",
      "3            mnth   3.233548\n",
      "4              hr   1.570651\n",
      "5         holiday   1.079880\n",
      "6         weekday   1.016122\n",
      "7      workingday   1.355626\n",
      "8      weathersit   1.259125\n",
      "9            temp  46.513455\n",
      "10          atemp  47.071411\n",
      "11            hum   1.660553\n",
      "12      windspeed   1.226089\n",
      "13         casual   4.972133\n",
      "14     registered   3.754319\n",
      "15  extracted_day   1.004138\n"
     ]
    }
   ],
   "source": [
    "# Add a constant term to the features for the intercept\n",
    "X_train_with_constant = sm.add_constant(X_train)\n",
    "\n",
    "# Calculate VIF for each feature\n",
    "vif_data = pd.DataFrame()\n",
    "vif_data[\"Variable\"] = X_train_with_constant.columns\n",
    "vif_data[\"VIF\"] = [variance_inflation_factor(X_train_with_constant.values, i) for i in range(X_train_with_constant.shape[1])]\n",
    "\n",
    "# Display the VIF values\n",
    "print(vif_data)\n"
   ]
  },
  {
   "cell_type": "code",
   "execution_count": 88,
   "id": "ea9719ff",
   "metadata": {},
   "outputs": [
    {
     "name": "stdout",
     "output_type": "stream",
     "text": [
      "         Variable        VIF\n",
      "0           const  59.823968\n",
      "1          season   3.479221\n",
      "2              yr   1.067744\n",
      "3            mnth   3.233505\n",
      "4              hr   1.570247\n",
      "5         holiday   1.079078\n",
      "6         weekday   1.014832\n",
      "7      workingday   1.354161\n",
      "8      weathersit   1.257463\n",
      "9           atemp   1.867124\n",
      "10            hum   1.658236\n",
      "11      windspeed   1.143078\n",
      "12         casual   4.966228\n",
      "13     registered   3.752087\n",
      "14  extracted_day   1.002811\n"
     ]
    }
   ],
   "source": [
    "# Drop the 'temp' column from X_train_with_constant\n",
    "X_train_with_constant_dropped_temp = X_train_with_constant.drop(['temp'], axis=1)\n",
    "\n",
    "# Calculate VIF for each feature in the updated dataset\n",
    "vif_data_dropped_temp = pd.DataFrame()\n",
    "vif_data_dropped_temp[\"Variable\"] = X_train_with_constant_dropped_temp.columns\n",
    "vif_data_dropped_temp[\"VIF\"] = [variance_inflation_factor(X_train_with_constant_dropped_temp.values, i) for i in range(X_train_with_constant_dropped_temp.shape[1])]\n",
    "\n",
    "# Display the updated VIF values\n",
    "print(vif_data_dropped_temp)\n"
   ]
  },
  {
   "cell_type": "code",
   "execution_count": 89,
   "id": "3efd64b4",
   "metadata": {},
   "outputs": [
    {
     "name": "stdout",
     "output_type": "stream",
     "text": [
      "                            OLS Regression Results                            \n",
      "==============================================================================\n",
      "Dep. Variable:                    cnt   R-squared:                       0.997\n",
      "Model:                            OLS   Adj. R-squared:                  0.997\n",
      "Method:                 Least Squares   F-statistic:                 2.688e+05\n",
      "Date:                Wed, 03 Jan 2024   Prob (F-statistic):               0.00\n",
      "Time:                        10:33:19   Log-Likelihood:                 13399.\n",
      "No. Observations:               12165   AIC:                        -2.677e+04\n",
      "Df Residuals:                   12150   BIC:                        -2.666e+04\n",
      "Df Model:                          14                                         \n",
      "Covariance Type:            nonrobust                                         \n",
      "=================================================================================\n",
      "                    coef    std err          t      P>|t|      [0.025      0.975]\n",
      "---------------------------------------------------------------------------------\n",
      "const             0.3457      0.006     61.263      0.000       0.335       0.357\n",
      "season           -0.0054      0.001     -4.392      0.000      -0.008      -0.003\n",
      "yr               -0.0166      0.002    -11.021      0.000      -0.020      -0.014\n",
      "mnth              0.0001      0.000      0.355      0.723      -0.001       0.001\n",
      "hr               -0.0014      0.000    -10.794      0.000      -0.002      -0.001\n",
      "holiday           0.0124      0.005      2.698      0.007       0.003       0.021\n",
      "weekday          -0.0012      0.000     -3.188      0.001      -0.002      -0.000\n",
      "workingday       -0.0211      0.002    -11.556      0.000      -0.025      -0.017\n",
      "weathersit       -0.0005      0.001     -0.423      0.672      -0.003       0.002\n",
      "atemp            -0.0510      0.008     -6.076      0.000      -0.067      -0.035\n",
      "hum               0.0487      0.008      6.276      0.000       0.033       0.064\n",
      "windspeed        -0.0092      0.008     -1.189      0.234      -0.024       0.006\n",
      "casual            0.1656      0.001    151.785      0.000       0.163       0.168\n",
      "registered        0.8758      0.001    866.375      0.000       0.874       0.878\n",
      "extracted_day -3.087e-05    8.3e-05     -0.372      0.710      -0.000       0.000\n",
      "==============================================================================\n",
      "Omnibus:                     6673.118   Durbin-Watson:                   1.999\n",
      "Prob(Omnibus):                  0.000   Jarque-Bera (JB):           134673.501\n",
      "Skew:                           2.204   Prob(JB):                         0.00\n",
      "Kurtosis:                      18.693   Cond. No.                         302.\n",
      "==============================================================================\n",
      "\n",
      "Notes:\n",
      "[1] Standard Errors assume that the covariance matrix of the errors is correctly specified.\n"
     ]
    }
   ],
   "source": [
    "# Fit the linear regression model with the updated features\n",
    "model_dropped_temp = sm.OLS(y_train, X_train_with_constant_dropped_temp).fit()\n",
    "\n",
    "# Print the summary of the updated model\n",
    "print(model_dropped_temp.summary())\n"
   ]
  },
  {
   "cell_type": "code",
   "execution_count": 90,
   "id": "42bd3faa",
   "metadata": {},
   "outputs": [
    {
     "name": "stdout",
     "output_type": "stream",
     "text": [
      "                            OLS Regression Results                            \n",
      "==============================================================================\n",
      "Dep. Variable:                    cnt   R-squared:                       0.997\n",
      "Model:                            OLS   Adj. R-squared:                  0.997\n",
      "Method:                 Least Squares   F-statistic:                 2.895e+05\n",
      "Date:                Wed, 03 Jan 2024   Prob (F-statistic):               0.00\n",
      "Time:                        10:33:19   Log-Likelihood:                 13399.\n",
      "No. Observations:               12165   AIC:                        -2.677e+04\n",
      "Df Residuals:                   12151   BIC:                        -2.667e+04\n",
      "Df Model:                          13                                         \n",
      "Covariance Type:            nonrobust                                         \n",
      "=================================================================================\n",
      "                    coef    std err          t      P>|t|      [0.025      0.975]\n",
      "---------------------------------------------------------------------------------\n",
      "const             0.3457      0.006     61.264      0.000       0.335       0.357\n",
      "season           -0.0051      0.001     -6.987      0.000      -0.006      -0.004\n",
      "yr               -0.0166      0.002    -11.020      0.000      -0.020      -0.014\n",
      "hr               -0.0014      0.000    -10.788      0.000      -0.002      -0.001\n",
      "holiday           0.0125      0.005      2.718      0.007       0.003       0.021\n",
      "weekday          -0.0012      0.000     -3.179      0.001      -0.002      -0.000\n",
      "workingday       -0.0211      0.002    -11.558      0.000      -0.025      -0.017\n",
      "weathersit       -0.0005      0.001     -0.425      0.671      -0.003       0.002\n",
      "atemp            -0.0512      0.008     -6.129      0.000      -0.068      -0.035\n",
      "hum               0.0488      0.008      6.312      0.000       0.034       0.064\n",
      "windspeed        -0.0092      0.008     -1.192      0.233      -0.024       0.006\n",
      "casual            0.1656      0.001    151.799      0.000       0.163       0.168\n",
      "registered        0.8758      0.001    866.408      0.000       0.874       0.878\n",
      "extracted_day  -3.04e-05    8.3e-05     -0.366      0.714      -0.000       0.000\n",
      "==============================================================================\n",
      "Omnibus:                     6672.308   Durbin-Watson:                   1.999\n",
      "Prob(Omnibus):                  0.000   Jarque-Bera (JB):           134652.055\n",
      "Skew:                           2.204   Prob(JB):                         0.00\n",
      "Kurtosis:                      18.692   Cond. No.                         291.\n",
      "==============================================================================\n",
      "\n",
      "Notes:\n",
      "[1] Standard Errors assume that the covariance matrix of the errors is correctly specified.\n"
     ]
    }
   ],
   "source": [
    "# Drop the 'mnth' column from X_train_with_constant_dropped_temp\n",
    "X_train_with_constant_dropped_mnth = X_train_with_constant_dropped_temp.drop(['mnth'], axis=1)\n",
    "\n",
    "# Fit the linear regression model with the updated features\n",
    "model_dropped_mnth = sm.OLS(y_train, X_train_with_constant_dropped_mnth).fit()\n",
    "\n",
    "# Print the summary of the updated model\n",
    "print(model_dropped_mnth.summary())\n"
   ]
  },
  {
   "cell_type": "code",
   "execution_count": 91,
   "id": "929d374e",
   "metadata": {},
   "outputs": [
    {
     "name": "stdout",
     "output_type": "stream",
     "text": [
      "                            OLS Regression Results                            \n",
      "==============================================================================\n",
      "Dep. Variable:                    cnt   R-squared:                       0.997\n",
      "Model:                            OLS   Adj. R-squared:                  0.997\n",
      "Method:                 Least Squares   F-statistic:                 3.136e+05\n",
      "Date:                Wed, 03 Jan 2024   Prob (F-statistic):               0.00\n",
      "Time:                        10:33:19   Log-Likelihood:                 13399.\n",
      "No. Observations:               12165   AIC:                        -2.677e+04\n",
      "Df Residuals:                   12152   BIC:                        -2.668e+04\n",
      "Df Model:                          12                                         \n",
      "Covariance Type:            nonrobust                                         \n",
      "=================================================================================\n",
      "                    coef    std err          t      P>|t|      [0.025      0.975]\n",
      "---------------------------------------------------------------------------------\n",
      "const             0.3456      0.006     61.284      0.000       0.335       0.357\n",
      "season           -0.0050      0.001     -6.974      0.000      -0.006      -0.004\n",
      "yr               -0.0166      0.002    -11.035      0.000      -0.020      -0.014\n",
      "hr               -0.0014      0.000    -10.871      0.000      -0.002      -0.001\n",
      "holiday           0.0125      0.005      2.721      0.007       0.003       0.021\n",
      "weekday          -0.0012      0.000     -3.191      0.001      -0.002      -0.000\n",
      "workingday       -0.0211      0.002    -11.584      0.000      -0.025      -0.018\n",
      "atemp            -0.0510      0.008     -6.115      0.000      -0.067      -0.035\n",
      "hum               0.0475      0.007      6.751      0.000       0.034       0.061\n",
      "windspeed        -0.0097      0.008     -1.265      0.206      -0.025       0.005\n",
      "casual            0.1656      0.001    151.805      0.000       0.163       0.168\n",
      "registered        0.8758      0.001    866.445      0.000       0.874       0.878\n",
      "extracted_day -2.976e-05   8.29e-05     -0.359      0.720      -0.000       0.000\n",
      "==============================================================================\n",
      "Omnibus:                     6672.137   Durbin-Watson:                   2.000\n",
      "Prob(Omnibus):                  0.000   Jarque-Bera (JB):           134620.391\n",
      "Skew:                           2.204   Prob(JB):                         0.00\n",
      "Kurtosis:                      18.690   Cond. No.                         280.\n",
      "==============================================================================\n",
      "\n",
      "Notes:\n",
      "[1] Standard Errors assume that the covariance matrix of the errors is correctly specified.\n"
     ]
    }
   ],
   "source": [
    "# Drop the 'weathersit' column from X_train_with_constant_dropped_mnth\n",
    "X_train_with_constant_dropped_weathersit = X_train_with_constant_dropped_mnth.drop(['weathersit'], axis=1)\n",
    "\n",
    "# Fit the linear regression model with the updated features\n",
    "model_dropped_weathersit = sm.OLS(y_train, X_train_with_constant_dropped_weathersit).fit()\n",
    "\n",
    "# Print the summary of the updated model\n",
    "print(model_dropped_weathersit.summary())\n"
   ]
  },
  {
   "cell_type": "code",
   "execution_count": 92,
   "id": "9c7f5220",
   "metadata": {},
   "outputs": [
    {
     "name": "stdout",
     "output_type": "stream",
     "text": [
      "                            OLS Regression Results                            \n",
      "==============================================================================\n",
      "Dep. Variable:                    cnt   R-squared:                       0.997\n",
      "Model:                            OLS   Adj. R-squared:                  0.997\n",
      "Method:                 Least Squares   F-statistic:                 3.763e+05\n",
      "Date:                Wed, 03 Jan 2024   Prob (F-statistic):               0.00\n",
      "Time:                        10:33:20   Log-Likelihood:                 13398.\n",
      "No. Observations:               12165   AIC:                        -2.677e+04\n",
      "Df Residuals:                   12154   BIC:                        -2.669e+04\n",
      "Df Model:                          10                                         \n",
      "Covariance Type:            nonrobust                                         \n",
      "==============================================================================\n",
      "                 coef    std err          t      P>|t|      [0.025      0.975]\n",
      "------------------------------------------------------------------------------\n",
      "const          0.3424      0.005     67.923      0.000       0.332       0.352\n",
      "season        -0.0049      0.001     -6.881      0.000      -0.006      -0.004\n",
      "yr            -0.0166      0.002    -11.002      0.000      -0.020      -0.014\n",
      "hr            -0.0014      0.000    -10.928      0.000      -0.002      -0.001\n",
      "holiday        0.0125      0.005      2.724      0.006       0.004       0.022\n",
      "weekday       -0.0012      0.000     -3.200      0.001      -0.002      -0.000\n",
      "workingday    -0.0211      0.002    -11.583      0.000      -0.025      -0.018\n",
      "atemp         -0.0504      0.008     -6.054      0.000      -0.067      -0.034\n",
      "hum            0.0494      0.007      7.227      0.000       0.036       0.063\n",
      "casual         0.1656      0.001    151.811      0.000       0.163       0.168\n",
      "registered     0.8758      0.001    866.763      0.000       0.874       0.878\n",
      "==============================================================================\n",
      "Omnibus:                     6670.673   Durbin-Watson:                   2.000\n",
      "Prob(Omnibus):                  0.000   Jarque-Bera (JB):           134571.902\n",
      "Skew:                           2.203   Prob(JB):                         0.00\n",
      "Kurtosis:                      18.687   Cond. No.                         175.\n",
      "==============================================================================\n",
      "\n",
      "Notes:\n",
      "[1] Standard Errors assume that the covariance matrix of the errors is correctly specified.\n"
     ]
    }
   ],
   "source": [
    "# Drop the 'windspeed' and 'extracted_day' columns from X_train_with_constant_dropped_weathersit\n",
    "columns_to_drop = ['windspeed', 'extracted_day']\n",
    "X_train_with_constant_dropped_windspeed_extracted_day = X_train_with_constant_dropped_weathersit.drop(columns_to_drop, axis=1)\n",
    "\n",
    "# Fit the linear regression model with the updated features\n",
    "model_dropped_windspeed_extracted_day = sm.OLS(y_train, X_train_with_constant_dropped_windspeed_extracted_day).fit()\n",
    "\n",
    "# Print the summary of the updated model\n",
    "print(model_dropped_windspeed_extracted_day.summary())\n"
   ]
  },
  {
   "cell_type": "code",
   "execution_count": 93,
   "id": "b6c3637c",
   "metadata": {},
   "outputs": [
    {
     "data": {
      "text/html": [
       "<div>\n",
       "<style scoped>\n",
       "    .dataframe tbody tr th:only-of-type {\n",
       "        vertical-align: middle;\n",
       "    }\n",
       "\n",
       "    .dataframe tbody tr th {\n",
       "        vertical-align: top;\n",
       "    }\n",
       "\n",
       "    .dataframe thead th {\n",
       "        text-align: right;\n",
       "    }\n",
       "</style>\n",
       "<table border=\"1\" class=\"dataframe\">\n",
       "  <thead>\n",
       "    <tr style=\"text-align: right;\">\n",
       "      <th></th>\n",
       "      <th>RMSE</th>\n",
       "      <th>MAE</th>\n",
       "      <th>R-squared</th>\n",
       "      <th>Adj. R-squared</th>\n",
       "      <th>MAPE</th>\n",
       "    </tr>\n",
       "  </thead>\n",
       "  <tbody>\n",
       "    <tr>\n",
       "      <th>0</th>\n",
       "      <td>0.080433</td>\n",
       "      <td>0.053829</td>\n",
       "      <td>0.996781</td>\n",
       "      <td>0.996778</td>\n",
       "      <td>1.803558</td>\n",
       "    </tr>\n",
       "  </tbody>\n",
       "</table>\n",
       "</div>"
      ],
      "text/plain": [
       "       RMSE       MAE  R-squared  Adj. R-squared      MAPE\n",
       "0  0.080433  0.053829   0.996781        0.996778  1.803558"
      ]
     },
     "execution_count": 93,
     "metadata": {},
     "output_type": "execute_result"
    }
   ],
   "source": [
    "model_performance_regression(model_dropped_windspeed_extracted_day ,X_train_with_constant_dropped_windspeed_extracted_day  , y_train)"
   ]
  },
  {
   "cell_type": "code",
   "execution_count": 94,
   "id": "1cb9a61b",
   "metadata": {},
   "outputs": [],
   "source": [
    "\n",
    "# Assuming X_train_with_constant_dropped_windspeed_extracted_day.columns[1:] are the features used in the model\n",
    "\n",
    "X_test_final = sm.add_constant(X_test[X_train_with_constant_dropped_windspeed_extracted_day.columns[1:]])\n"
   ]
  },
  {
   "cell_type": "code",
   "execution_count": 95,
   "id": "e2185137",
   "metadata": {
    "scrolled": true
   },
   "outputs": [
    {
     "data": {
      "text/html": [
       "<div>\n",
       "<style scoped>\n",
       "    .dataframe tbody tr th:only-of-type {\n",
       "        vertical-align: middle;\n",
       "    }\n",
       "\n",
       "    .dataframe tbody tr th {\n",
       "        vertical-align: top;\n",
       "    }\n",
       "\n",
       "    .dataframe thead th {\n",
       "        text-align: right;\n",
       "    }\n",
       "</style>\n",
       "<table border=\"1\" class=\"dataframe\">\n",
       "  <thead>\n",
       "    <tr style=\"text-align: right;\">\n",
       "      <th></th>\n",
       "      <th>RMSE</th>\n",
       "      <th>MAE</th>\n",
       "      <th>R-squared</th>\n",
       "      <th>Adj. R-squared</th>\n",
       "      <th>MAPE</th>\n",
       "    </tr>\n",
       "  </thead>\n",
       "  <tbody>\n",
       "    <tr>\n",
       "      <th>0</th>\n",
       "      <td>0.082824</td>\n",
       "      <td>0.055533</td>\n",
       "      <td>0.996589</td>\n",
       "      <td>0.996582</td>\n",
       "      <td>1.903077</td>\n",
       "    </tr>\n",
       "  </tbody>\n",
       "</table>\n",
       "</div>"
      ],
      "text/plain": [
       "       RMSE       MAE  R-squared  Adj. R-squared      MAPE\n",
       "0  0.082824  0.055533   0.996589        0.996582  1.903077"
      ]
     },
     "execution_count": 95,
     "metadata": {},
     "output_type": "execute_result"
    }
   ],
   "source": [
    "model_performance_regression(model_dropped_windspeed_extracted_day, X_test_final, y_test)"
   ]
  },
  {
   "cell_type": "code",
   "execution_count": null,
   "id": "fd5d13b2",
   "metadata": {},
   "outputs": [],
   "source": []
  },
  {
   "cell_type": "code",
   "execution_count": 96,
   "id": "70f3d136",
   "metadata": {},
   "outputs": [],
   "source": [
    "from sklearn.tree import DecisionTreeRegressor"
   ]
  },
  {
   "cell_type": "code",
   "execution_count": 97,
   "id": "77c1a520",
   "metadata": {},
   "outputs": [
    {
     "data": {
      "text/html": [
       "<div>\n",
       "<style scoped>\n",
       "    .dataframe tbody tr th:only-of-type {\n",
       "        vertical-align: middle;\n",
       "    }\n",
       "\n",
       "    .dataframe tbody tr th {\n",
       "        vertical-align: top;\n",
       "    }\n",
       "\n",
       "    .dataframe thead th {\n",
       "        text-align: right;\n",
       "    }\n",
       "</style>\n",
       "<table border=\"1\" class=\"dataframe\">\n",
       "  <thead>\n",
       "    <tr style=\"text-align: right;\">\n",
       "      <th></th>\n",
       "      <th>RMSE</th>\n",
       "      <th>MAE</th>\n",
       "      <th>R-squared</th>\n",
       "      <th>Adj. R-squared</th>\n",
       "      <th>MAPE</th>\n",
       "    </tr>\n",
       "  </thead>\n",
       "  <tbody>\n",
       "    <tr>\n",
       "      <th>0</th>\n",
       "      <td>2.890309e-16</td>\n",
       "      <td>7.885184e-17</td>\n",
       "      <td>1.0</td>\n",
       "      <td>1.0</td>\n",
       "      <td>4.320551e-15</td>\n",
       "    </tr>\n",
       "  </tbody>\n",
       "</table>\n",
       "</div>"
      ],
      "text/plain": [
       "           RMSE           MAE  R-squared  Adj. R-squared          MAPE\n",
       "0  2.890309e-16  7.885184e-17        1.0             1.0  4.320551e-15"
      ]
     },
     "execution_count": 97,
     "metadata": {},
     "output_type": "execute_result"
    }
   ],
   "source": [
    "from sklearn.tree import DecisionTreeRegressor\n",
    "from sklearn.metrics import mean_squared_error, r2_score, mean_absolute_error\n",
    "\n",
    "# Create a Decision Tree Regressor\n",
    "dt_regressor = DecisionTreeRegressor(random_state=42)\n",
    "\n",
    "# Fit the model on the training data\n",
    "dt_regressor.fit(X_train, y_train)\n",
    "\n",
    "# Make predictions on the training and test data\n",
    "y_train_pred = dt_regressor.predict(X_train)\n",
    "y_test_pred = dt_regressor.predict(X_test)\n",
    "\n",
    "# Evaluate the model performance on the training set\n",
    "model_performance_regression(dt_regressor, X_train, y_train)\n",
    "\n"
   ]
  },
  {
   "cell_type": "code",
   "execution_count": 98,
   "id": "e3ef7264",
   "metadata": {},
   "outputs": [
    {
     "data": {
      "text/html": [
       "<div>\n",
       "<style scoped>\n",
       "    .dataframe tbody tr th:only-of-type {\n",
       "        vertical-align: middle;\n",
       "    }\n",
       "\n",
       "    .dataframe tbody tr th {\n",
       "        vertical-align: top;\n",
       "    }\n",
       "\n",
       "    .dataframe thead th {\n",
       "        text-align: right;\n",
       "    }\n",
       "</style>\n",
       "<table border=\"1\" class=\"dataframe\">\n",
       "  <thead>\n",
       "    <tr style=\"text-align: right;\">\n",
       "      <th></th>\n",
       "      <th>RMSE</th>\n",
       "      <th>MAE</th>\n",
       "      <th>R-squared</th>\n",
       "      <th>Adj. R-squared</th>\n",
       "      <th>MAPE</th>\n",
       "    </tr>\n",
       "  </thead>\n",
       "  <tbody>\n",
       "    <tr>\n",
       "      <th>0</th>\n",
       "      <td>0.021546</td>\n",
       "      <td>0.01125</td>\n",
       "      <td>0.999769</td>\n",
       "      <td>0.999768</td>\n",
       "      <td>0.242557</td>\n",
       "    </tr>\n",
       "  </tbody>\n",
       "</table>\n",
       "</div>"
      ],
      "text/plain": [
       "       RMSE      MAE  R-squared  Adj. R-squared      MAPE\n",
       "0  0.021546  0.01125   0.999769        0.999768  0.242557"
      ]
     },
     "execution_count": 98,
     "metadata": {},
     "output_type": "execute_result"
    }
   ],
   "source": [
    "# Evaluate the model performance on the test set\n",
    "model_performance_regression(dt_regressor, X_test, y_test)\n"
   ]
  },
  {
   "cell_type": "code",
   "execution_count": 99,
   "id": "de30e44d",
   "metadata": {},
   "outputs": [
    {
     "data": {
      "text/html": [
       "<div>\n",
       "<style scoped>\n",
       "    .dataframe tbody tr th:only-of-type {\n",
       "        vertical-align: middle;\n",
       "    }\n",
       "\n",
       "    .dataframe tbody tr th {\n",
       "        vertical-align: top;\n",
       "    }\n",
       "\n",
       "    .dataframe thead th {\n",
       "        text-align: right;\n",
       "    }\n",
       "</style>\n",
       "<table border=\"1\" class=\"dataframe\">\n",
       "  <thead>\n",
       "    <tr style=\"text-align: right;\">\n",
       "      <th></th>\n",
       "      <th>RMSE</th>\n",
       "      <th>MAE</th>\n",
       "      <th>R-squared</th>\n",
       "      <th>Adj. R-squared</th>\n",
       "      <th>MAPE</th>\n",
       "    </tr>\n",
       "  </thead>\n",
       "  <tbody>\n",
       "    <tr>\n",
       "      <th>0</th>\n",
       "      <td>0.128978</td>\n",
       "      <td>0.10194</td>\n",
       "      <td>0.991722</td>\n",
       "      <td>0.991712</td>\n",
       "      <td>2.762984</td>\n",
       "    </tr>\n",
       "  </tbody>\n",
       "</table>\n",
       "</div>"
      ],
      "text/plain": [
       "       RMSE      MAE  R-squared  Adj. R-squared      MAPE\n",
       "0  0.128978  0.10194   0.991722        0.991712  2.762984"
      ]
     },
     "execution_count": 99,
     "metadata": {},
     "output_type": "execute_result"
    }
   ],
   "source": [
    "\n",
    "\n",
    "# Create a Decision Tree Regressor with pre-pruning (max_depth=5 for example)\n",
    "dt_regressor_pruned = DecisionTreeRegressor(max_depth=5, random_state=42)\n",
    "\n",
    "# Fit the pruned model on the training data\n",
    "dt_regressor_pruned.fit(X_train, y_train)\n",
    "\n",
    "# Make predictions on the training and test data\n",
    "y_train_pred_pruned = dt_regressor_pruned.predict(X_train)\n",
    "y_test_pred_pruned = dt_regressor_pruned.predict(X_test)\n",
    "\n",
    "# Evaluate the pruned model performance on the training set\n",
    "model_performance_regression(dt_regressor_pruned, X_train, y_train)\n",
    "\n"
   ]
  },
  {
   "cell_type": "code",
   "execution_count": 100,
   "id": "462106a6",
   "metadata": {},
   "outputs": [
    {
     "data": {
      "text/html": [
       "<div>\n",
       "<style scoped>\n",
       "    .dataframe tbody tr th:only-of-type {\n",
       "        vertical-align: middle;\n",
       "    }\n",
       "\n",
       "    .dataframe tbody tr th {\n",
       "        vertical-align: top;\n",
       "    }\n",
       "\n",
       "    .dataframe thead th {\n",
       "        text-align: right;\n",
       "    }\n",
       "</style>\n",
       "<table border=\"1\" class=\"dataframe\">\n",
       "  <thead>\n",
       "    <tr style=\"text-align: right;\">\n",
       "      <th></th>\n",
       "      <th>RMSE</th>\n",
       "      <th>MAE</th>\n",
       "      <th>R-squared</th>\n",
       "      <th>Adj. R-squared</th>\n",
       "      <th>MAPE</th>\n",
       "    </tr>\n",
       "  </thead>\n",
       "  <tbody>\n",
       "    <tr>\n",
       "      <th>0</th>\n",
       "      <td>0.135317</td>\n",
       "      <td>0.106651</td>\n",
       "      <td>0.990895</td>\n",
       "      <td>0.990868</td>\n",
       "      <td>2.96097</td>\n",
       "    </tr>\n",
       "  </tbody>\n",
       "</table>\n",
       "</div>"
      ],
      "text/plain": [
       "       RMSE       MAE  R-squared  Adj. R-squared     MAPE\n",
       "0  0.135317  0.106651   0.990895        0.990868  2.96097"
      ]
     },
     "execution_count": 100,
     "metadata": {},
     "output_type": "execute_result"
    }
   ],
   "source": [
    "# Evaluate the pruned model performance on the test set\n",
    "model_performance_regression(dt_regressor_pruned, X_test, y_test)"
   ]
  },
  {
   "cell_type": "code",
   "execution_count": 101,
   "id": "abcb8899",
   "metadata": {},
   "outputs": [
    {
     "data": {
      "text/html": [
       "<div>\n",
       "<style scoped>\n",
       "    .dataframe tbody tr th:only-of-type {\n",
       "        vertical-align: middle;\n",
       "    }\n",
       "\n",
       "    .dataframe tbody tr th {\n",
       "        vertical-align: top;\n",
       "    }\n",
       "\n",
       "    .dataframe thead th {\n",
       "        text-align: right;\n",
       "    }\n",
       "</style>\n",
       "<table border=\"1\" class=\"dataframe\">\n",
       "  <thead>\n",
       "    <tr style=\"text-align: right;\">\n",
       "      <th></th>\n",
       "      <th>RMSE</th>\n",
       "      <th>MAE</th>\n",
       "      <th>R-squared</th>\n",
       "      <th>Adj. R-squared</th>\n",
       "      <th>MAPE</th>\n",
       "    </tr>\n",
       "  </thead>\n",
       "  <tbody>\n",
       "    <tr>\n",
       "      <th>0</th>\n",
       "      <td>0.004695</td>\n",
       "      <td>0.00207</td>\n",
       "      <td>0.999989</td>\n",
       "      <td>0.999989</td>\n",
       "      <td>0.04826</td>\n",
       "    </tr>\n",
       "  </tbody>\n",
       "</table>\n",
       "</div>"
      ],
      "text/plain": [
       "       RMSE      MAE  R-squared  Adj. R-squared     MAPE\n",
       "0  0.004695  0.00207   0.999989        0.999989  0.04826"
      ]
     },
     "execution_count": 101,
     "metadata": {},
     "output_type": "execute_result"
    }
   ],
   "source": [
    "from sklearn.ensemble import RandomForestRegressor\n",
    "\n",
    "# Create a Random Forest Regressor\n",
    "rf_regressor = RandomForestRegressor(random_state=42)\n",
    "\n",
    "# Fit the model on the training data\n",
    "rf_regressor.fit(X_train, y_train.values.ravel())  # Flatten y_train if it's a DataFrame\n",
    "\n",
    "# Make predictions on the training and test data\n",
    "y_train_pred_rf = rf_regressor.predict(X_train)\n",
    "y_test_pred_rf = rf_regressor.predict(X_test)\n",
    "\n",
    "# Evaluate the model performance on the training set\n",
    "model_performance_regression(rf_regressor, X_train, y_train.values.ravel())\n",
    "\n"
   ]
  },
  {
   "cell_type": "code",
   "execution_count": 102,
   "id": "aaa8617e",
   "metadata": {},
   "outputs": [
    {
     "data": {
      "text/html": [
       "<div>\n",
       "<style scoped>\n",
       "    .dataframe tbody tr th:only-of-type {\n",
       "        vertical-align: middle;\n",
       "    }\n",
       "\n",
       "    .dataframe tbody tr th {\n",
       "        vertical-align: top;\n",
       "    }\n",
       "\n",
       "    .dataframe thead th {\n",
       "        text-align: right;\n",
       "    }\n",
       "</style>\n",
       "<table border=\"1\" class=\"dataframe\">\n",
       "  <thead>\n",
       "    <tr style=\"text-align: right;\">\n",
       "      <th></th>\n",
       "      <th>RMSE</th>\n",
       "      <th>MAE</th>\n",
       "      <th>R-squared</th>\n",
       "      <th>Adj. R-squared</th>\n",
       "      <th>MAPE</th>\n",
       "    </tr>\n",
       "  </thead>\n",
       "  <tbody>\n",
       "    <tr>\n",
       "      <th>0</th>\n",
       "      <td>0.013104</td>\n",
       "      <td>0.005291</td>\n",
       "      <td>0.999915</td>\n",
       "      <td>0.999914</td>\n",
       "      <td>0.128669</td>\n",
       "    </tr>\n",
       "  </tbody>\n",
       "</table>\n",
       "</div>"
      ],
      "text/plain": [
       "       RMSE       MAE  R-squared  Adj. R-squared      MAPE\n",
       "0  0.013104  0.005291   0.999915        0.999914  0.128669"
      ]
     },
     "execution_count": 102,
     "metadata": {},
     "output_type": "execute_result"
    }
   ],
   "source": [
    "# Evaluate the model performance on the test set\n",
    "model_performance_regression(rf_regressor, X_test, y_test)"
   ]
  },
  {
   "cell_type": "code",
   "execution_count": 103,
   "id": "4d2b3fa3",
   "metadata": {},
   "outputs": [
    {
     "data": {
      "text/html": [
       "<div>\n",
       "<style scoped>\n",
       "    .dataframe tbody tr th:only-of-type {\n",
       "        vertical-align: middle;\n",
       "    }\n",
       "\n",
       "    .dataframe tbody tr th {\n",
       "        vertical-align: top;\n",
       "    }\n",
       "\n",
       "    .dataframe thead th {\n",
       "        text-align: right;\n",
       "    }\n",
       "</style>\n",
       "<table border=\"1\" class=\"dataframe\">\n",
       "  <thead>\n",
       "    <tr style=\"text-align: right;\">\n",
       "      <th></th>\n",
       "      <th>RMSE</th>\n",
       "      <th>MAE</th>\n",
       "      <th>R-squared</th>\n",
       "      <th>Adj. R-squared</th>\n",
       "      <th>MAPE</th>\n",
       "    </tr>\n",
       "  </thead>\n",
       "  <tbody>\n",
       "    <tr>\n",
       "      <th>0</th>\n",
       "      <td>0.004663</td>\n",
       "      <td>0.002058</td>\n",
       "      <td>0.999989</td>\n",
       "      <td>0.999989</td>\n",
       "      <td>0.048134</td>\n",
       "    </tr>\n",
       "  </tbody>\n",
       "</table>\n",
       "</div>"
      ],
      "text/plain": [
       "       RMSE       MAE  R-squared  Adj. R-squared      MAPE\n",
       "0  0.004663  0.002058   0.999989        0.999989  0.048134"
      ]
     },
     "execution_count": 103,
     "metadata": {},
     "output_type": "execute_result"
    }
   ],
   "source": [
    "from sklearn.ensemble import BaggingRegressor\n",
    "from sklearn.tree import DecisionTreeRegressor\n",
    "from sklearn.metrics import mean_squared_error, r2_score, mean_absolute_error\n",
    "\n",
    "# Create a Decision Tree Regressor (base model)\n",
    "base_model = DecisionTreeRegressor(random_state=42)\n",
    "\n",
    "# Create a Bagging Regressor with 100 base models\n",
    "bagging_regressor = BaggingRegressor(base_model, n_estimators=100, random_state=42)\n",
    "\n",
    "# Fit the Bagging Regressor on the training data\n",
    "bagging_regressor.fit(X_train, y_train.values.ravel())\n",
    "\n",
    "# Make predictions on the training and test data\n",
    "y_train_pred_bagging = bagging_regressor.predict(X_train)\n",
    "y_test_pred_bagging = bagging_regressor.predict(X_test)\n",
    "\n",
    "# Evaluate the model performance on the training set\n",
    "model_performance_regression(bagging_regressor, X_train, y_train.values.ravel())\n",
    "\n"
   ]
  },
  {
   "cell_type": "code",
   "execution_count": 104,
   "id": "bfa3c389",
   "metadata": {},
   "outputs": [
    {
     "data": {
      "text/html": [
       "<div>\n",
       "<style scoped>\n",
       "    .dataframe tbody tr th:only-of-type {\n",
       "        vertical-align: middle;\n",
       "    }\n",
       "\n",
       "    .dataframe tbody tr th {\n",
       "        vertical-align: top;\n",
       "    }\n",
       "\n",
       "    .dataframe thead th {\n",
       "        text-align: right;\n",
       "    }\n",
       "</style>\n",
       "<table border=\"1\" class=\"dataframe\">\n",
       "  <thead>\n",
       "    <tr style=\"text-align: right;\">\n",
       "      <th></th>\n",
       "      <th>RMSE</th>\n",
       "      <th>MAE</th>\n",
       "      <th>R-squared</th>\n",
       "      <th>Adj. R-squared</th>\n",
       "      <th>MAPE</th>\n",
       "    </tr>\n",
       "  </thead>\n",
       "  <tbody>\n",
       "    <tr>\n",
       "      <th>0</th>\n",
       "      <td>0.012759</td>\n",
       "      <td>0.005243</td>\n",
       "      <td>0.999919</td>\n",
       "      <td>0.999919</td>\n",
       "      <td>0.125105</td>\n",
       "    </tr>\n",
       "  </tbody>\n",
       "</table>\n",
       "</div>"
      ],
      "text/plain": [
       "       RMSE       MAE  R-squared  Adj. R-squared      MAPE\n",
       "0  0.012759  0.005243   0.999919        0.999919  0.125105"
      ]
     },
     "execution_count": 104,
     "metadata": {},
     "output_type": "execute_result"
    }
   ],
   "source": [
    "# Evaluate the model performance on the test set\n",
    "model_performance_regression(bagging_regressor, X_test, y_test.values.ravel())"
   ]
  },
  {
   "cell_type": "code",
   "execution_count": 105,
   "id": "05322c09",
   "metadata": {},
   "outputs": [
    {
     "data": {
      "text/html": [
       "<div>\n",
       "<style scoped>\n",
       "    .dataframe tbody tr th:only-of-type {\n",
       "        vertical-align: middle;\n",
       "    }\n",
       "\n",
       "    .dataframe tbody tr th {\n",
       "        vertical-align: top;\n",
       "    }\n",
       "\n",
       "    .dataframe thead th {\n",
       "        text-align: right;\n",
       "    }\n",
       "</style>\n",
       "<table border=\"1\" class=\"dataframe\">\n",
       "  <thead>\n",
       "    <tr style=\"text-align: right;\">\n",
       "      <th></th>\n",
       "      <th>RMSE</th>\n",
       "      <th>MAE</th>\n",
       "      <th>R-squared</th>\n",
       "      <th>Adj. R-squared</th>\n",
       "      <th>MAPE</th>\n",
       "    </tr>\n",
       "  </thead>\n",
       "  <tbody>\n",
       "    <tr>\n",
       "      <th>0</th>\n",
       "      <td>0.178549</td>\n",
       "      <td>0.148541</td>\n",
       "      <td>0.984137</td>\n",
       "      <td>0.984117</td>\n",
       "      <td>4.295796</td>\n",
       "    </tr>\n",
       "  </tbody>\n",
       "</table>\n",
       "</div>"
      ],
      "text/plain": [
       "       RMSE       MAE  R-squared  Adj. R-squared      MAPE\n",
       "0  0.178549  0.148541   0.984137        0.984117  4.295796"
      ]
     },
     "execution_count": 105,
     "metadata": {},
     "output_type": "execute_result"
    }
   ],
   "source": [
    "from sklearn.ensemble import AdaBoostRegressor\n",
    "from sklearn.tree import DecisionTreeRegressor\n",
    "from sklearn.metrics import mean_squared_error, r2_score, mean_absolute_error\n",
    "\n",
    "# Create a base Decision Tree Regressor\n",
    "base_regressor = DecisionTreeRegressor(max_depth=3)\n",
    "\n",
    "# Create AdaBoost Regressor\n",
    "adaboost_regressor = AdaBoostRegressor(base_regressor, n_estimators=50, random_state=42)\n",
    "\n",
    "# Fit the model on the training data\n",
    "adaboost_regressor.fit(X_train, y_train.values.ravel())\n",
    "\n",
    "# Make predictions on the training and test data\n",
    "y_train_pred_ab = adaboost_regressor.predict(X_train)\n",
    "y_test_pred_ab = adaboost_regressor.predict(X_test)\n",
    "\n",
    "# Evaluate the model performance on the training set\n",
    "model_performance_regression(adaboost_regressor, X_train, y_train.values.ravel())\n",
    "\n"
   ]
  },
  {
   "cell_type": "code",
   "execution_count": 106,
   "id": "27b9ae3d",
   "metadata": {},
   "outputs": [
    {
     "data": {
      "text/html": [
       "<div>\n",
       "<style scoped>\n",
       "    .dataframe tbody tr th:only-of-type {\n",
       "        vertical-align: middle;\n",
       "    }\n",
       "\n",
       "    .dataframe tbody tr th {\n",
       "        vertical-align: top;\n",
       "    }\n",
       "\n",
       "    .dataframe thead th {\n",
       "        text-align: right;\n",
       "    }\n",
       "</style>\n",
       "<table border=\"1\" class=\"dataframe\">\n",
       "  <thead>\n",
       "    <tr style=\"text-align: right;\">\n",
       "      <th></th>\n",
       "      <th>RMSE</th>\n",
       "      <th>MAE</th>\n",
       "      <th>R-squared</th>\n",
       "      <th>Adj. R-squared</th>\n",
       "      <th>MAPE</th>\n",
       "    </tr>\n",
       "  </thead>\n",
       "  <tbody>\n",
       "    <tr>\n",
       "      <th>0</th>\n",
       "      <td>0.178773</td>\n",
       "      <td>0.148431</td>\n",
       "      <td>0.984108</td>\n",
       "      <td>0.984062</td>\n",
       "      <td>4.270895</td>\n",
       "    </tr>\n",
       "  </tbody>\n",
       "</table>\n",
       "</div>"
      ],
      "text/plain": [
       "       RMSE       MAE  R-squared  Adj. R-squared      MAPE\n",
       "0  0.178773  0.148431   0.984108        0.984062  4.270895"
      ]
     },
     "execution_count": 106,
     "metadata": {},
     "output_type": "execute_result"
    }
   ],
   "source": [
    "# Evaluate the model performance on the test set\n",
    "model_performance_regression(adaboost_regressor, X_test, y_test.values.ravel())"
   ]
  },
  {
   "cell_type": "code",
   "execution_count": 107,
   "id": "df5d2612",
   "metadata": {},
   "outputs": [
    {
     "data": {
      "text/html": [
       "<div>\n",
       "<style scoped>\n",
       "    .dataframe tbody tr th:only-of-type {\n",
       "        vertical-align: middle;\n",
       "    }\n",
       "\n",
       "    .dataframe tbody tr th {\n",
       "        vertical-align: top;\n",
       "    }\n",
       "\n",
       "    .dataframe thead th {\n",
       "        text-align: right;\n",
       "    }\n",
       "</style>\n",
       "<table border=\"1\" class=\"dataframe\">\n",
       "  <thead>\n",
       "    <tr style=\"text-align: right;\">\n",
       "      <th></th>\n",
       "      <th>RMSE</th>\n",
       "      <th>MAE</th>\n",
       "      <th>R-squared</th>\n",
       "      <th>Adj. R-squared</th>\n",
       "      <th>MAPE</th>\n",
       "    </tr>\n",
       "  </thead>\n",
       "  <tbody>\n",
       "    <tr>\n",
       "      <th>0</th>\n",
       "      <td>0.026934</td>\n",
       "      <td>0.019009</td>\n",
       "      <td>0.999639</td>\n",
       "      <td>0.999639</td>\n",
       "      <td>0.519005</td>\n",
       "    </tr>\n",
       "  </tbody>\n",
       "</table>\n",
       "</div>"
      ],
      "text/plain": [
       "       RMSE       MAE  R-squared  Adj. R-squared      MAPE\n",
       "0  0.026934  0.019009   0.999639        0.999639  0.519005"
      ]
     },
     "execution_count": 107,
     "metadata": {},
     "output_type": "execute_result"
    }
   ],
   "source": [
    "from sklearn.ensemble import GradientBoostingRegressor\n",
    "from sklearn.metrics import mean_squared_error, r2_score, mean_absolute_error\n",
    "\n",
    "# Create Gradient Boosting Regressor\n",
    "gradient_regressor = GradientBoostingRegressor(n_estimators=100, learning_rate=0.1, max_depth=3, random_state=42)\n",
    "\n",
    "# Fit the model on the training data\n",
    "gradient_regressor.fit(X_train, y_train.values.ravel())\n",
    "\n",
    "# Make predictions on the training and test data\n",
    "y_train_pred_gb = gradient_regressor.predict(X_train)\n",
    "y_test_pred_gb = gradient_regressor.predict(X_test)\n",
    "\n",
    "# Evaluate the model performance on the training set\n",
    "model_performance_regression(gradient_regressor, X_train, y_train.values.ravel())\n",
    "\n"
   ]
  },
  {
   "cell_type": "code",
   "execution_count": 108,
   "id": "0eedab30",
   "metadata": {},
   "outputs": [
    {
     "data": {
      "text/html": [
       "<div>\n",
       "<style scoped>\n",
       "    .dataframe tbody tr th:only-of-type {\n",
       "        vertical-align: middle;\n",
       "    }\n",
       "\n",
       "    .dataframe tbody tr th {\n",
       "        vertical-align: top;\n",
       "    }\n",
       "\n",
       "    .dataframe thead th {\n",
       "        text-align: right;\n",
       "    }\n",
       "</style>\n",
       "<table border=\"1\" class=\"dataframe\">\n",
       "  <thead>\n",
       "    <tr style=\"text-align: right;\">\n",
       "      <th></th>\n",
       "      <th>RMSE</th>\n",
       "      <th>MAE</th>\n",
       "      <th>R-squared</th>\n",
       "      <th>Adj. R-squared</th>\n",
       "      <th>MAPE</th>\n",
       "    </tr>\n",
       "  </thead>\n",
       "  <tbody>\n",
       "    <tr>\n",
       "      <th>0</th>\n",
       "      <td>0.028388</td>\n",
       "      <td>0.019859</td>\n",
       "      <td>0.999599</td>\n",
       "      <td>0.999598</td>\n",
       "      <td>0.551321</td>\n",
       "    </tr>\n",
       "  </tbody>\n",
       "</table>\n",
       "</div>"
      ],
      "text/plain": [
       "       RMSE       MAE  R-squared  Adj. R-squared      MAPE\n",
       "0  0.028388  0.019859   0.999599        0.999598  0.551321"
      ]
     },
     "execution_count": 108,
     "metadata": {},
     "output_type": "execute_result"
    }
   ],
   "source": [
    "# Evaluate the model performance on the test set\n",
    "model_performance_regression(gradient_regressor, X_test, y_test.values.ravel())"
   ]
  },
  {
   "cell_type": "code",
   "execution_count": 109,
   "id": "a60f65f8",
   "metadata": {},
   "outputs": [
    {
     "data": {
      "text/html": [
       "<div>\n",
       "<style scoped>\n",
       "    .dataframe tbody tr th:only-of-type {\n",
       "        vertical-align: middle;\n",
       "    }\n",
       "\n",
       "    .dataframe tbody tr th {\n",
       "        vertical-align: top;\n",
       "    }\n",
       "\n",
       "    .dataframe thead th {\n",
       "        text-align: right;\n",
       "    }\n",
       "</style>\n",
       "<table border=\"1\" class=\"dataframe\">\n",
       "  <thead>\n",
       "    <tr style=\"text-align: right;\">\n",
       "      <th></th>\n",
       "      <th>RMSE</th>\n",
       "      <th>MAE</th>\n",
       "      <th>R-squared</th>\n",
       "      <th>Adj. R-squared</th>\n",
       "      <th>MAPE</th>\n",
       "    </tr>\n",
       "  </thead>\n",
       "  <tbody>\n",
       "    <tr>\n",
       "      <th>0</th>\n",
       "      <td>0.00956</td>\n",
       "      <td>0.007028</td>\n",
       "      <td>0.999955</td>\n",
       "      <td>0.999954</td>\n",
       "      <td>0.169779</td>\n",
       "    </tr>\n",
       "  </tbody>\n",
       "</table>\n",
       "</div>"
      ],
      "text/plain": [
       "      RMSE       MAE  R-squared  Adj. R-squared      MAPE\n",
       "0  0.00956  0.007028   0.999955        0.999954  0.169779"
      ]
     },
     "execution_count": 109,
     "metadata": {},
     "output_type": "execute_result"
    }
   ],
   "source": [
    "from xgboost import XGBRegressor\n",
    "from sklearn.metrics import mean_squared_error, r2_score, mean_absolute_error\n",
    "from sklearn.preprocessing import OneHotEncoder\n",
    "\n",
    "# Identify categorical columns\n",
    "categorical_cols = ['season', 'yr', 'mnth', 'hr', 'holiday', 'weekday', 'workingday', 'weathersit', 'extracted_day']\n",
    "\n",
    "# One-hot encode categorical columns\n",
    "encoder = OneHotEncoder(drop='first', sparse=False)\n",
    "X_train_encoded = encoder.fit_transform(X_train[categorical_cols])\n",
    "X_test_encoded = encoder.transform(X_test[categorical_cols])\n",
    "\n",
    "# Concatenate encoded features with the remaining columns\n",
    "X_train_encoded = np.concatenate([X_train_encoded, X_train.drop(categorical_cols, axis=1).values], axis=1)\n",
    "X_test_encoded = np.concatenate([X_test_encoded, X_test.drop(categorical_cols, axis=1).values], axis=1)\n",
    "\n",
    "# Create XGBoost Regressor\n",
    "xgb_regressor = XGBRegressor(random_state=42, objective=\"reg:squarederror\")\n",
    "xgb_regressor.fit(X_train_encoded, y_train.values.ravel())\n",
    "\n",
    "# Make predictions on the training and test data\n",
    "y_train_pred_xgb = xgb_regressor.predict(X_train_encoded)\n",
    "y_test_pred_xgb = xgb_regressor.predict(X_test_encoded)\n",
    "\n",
    "# Evaluate the model performance on the training set\n",
    "model_performance_regression(xgb_regressor, X_train_encoded, y_train.values.ravel())\n",
    "\n"
   ]
  },
  {
   "cell_type": "code",
   "execution_count": 110,
   "id": "da751d93",
   "metadata": {},
   "outputs": [
    {
     "data": {
      "text/html": [
       "<div>\n",
       "<style scoped>\n",
       "    .dataframe tbody tr th:only-of-type {\n",
       "        vertical-align: middle;\n",
       "    }\n",
       "\n",
       "    .dataframe tbody tr th {\n",
       "        vertical-align: top;\n",
       "    }\n",
       "\n",
       "    .dataframe thead th {\n",
       "        text-align: right;\n",
       "    }\n",
       "</style>\n",
       "<table border=\"1\" class=\"dataframe\">\n",
       "  <thead>\n",
       "    <tr style=\"text-align: right;\">\n",
       "      <th></th>\n",
       "      <th>RMSE</th>\n",
       "      <th>MAE</th>\n",
       "      <th>R-squared</th>\n",
       "      <th>Adj. R-squared</th>\n",
       "      <th>MAPE</th>\n",
       "    </tr>\n",
       "  </thead>\n",
       "  <tbody>\n",
       "    <tr>\n",
       "      <th>0</th>\n",
       "      <td>0.017022</td>\n",
       "      <td>0.010807</td>\n",
       "      <td>0.999856</td>\n",
       "      <td>0.999854</td>\n",
       "      <td>0.26715</td>\n",
       "    </tr>\n",
       "  </tbody>\n",
       "</table>\n",
       "</div>"
      ],
      "text/plain": [
       "       RMSE       MAE  R-squared  Adj. R-squared     MAPE\n",
       "0  0.017022  0.010807   0.999856        0.999854  0.26715"
      ]
     },
     "execution_count": 110,
     "metadata": {},
     "output_type": "execute_result"
    }
   ],
   "source": [
    "# Evaluate the model performance on the test set\n",
    "model_performance_regression(xgb_regressor, X_test_encoded, y_test.values.ravel())"
   ]
  },
  {
   "cell_type": "code",
   "execution_count": 111,
   "id": "033c82af",
   "metadata": {},
   "outputs": [
    {
     "data": {
      "text/html": [
       "<div>\n",
       "<style scoped>\n",
       "    .dataframe tbody tr th:only-of-type {\n",
       "        vertical-align: middle;\n",
       "    }\n",
       "\n",
       "    .dataframe tbody tr th {\n",
       "        vertical-align: top;\n",
       "    }\n",
       "\n",
       "    .dataframe thead th {\n",
       "        text-align: right;\n",
       "    }\n",
       "</style>\n",
       "<table border=\"1\" class=\"dataframe\">\n",
       "  <thead>\n",
       "    <tr style=\"text-align: right;\">\n",
       "      <th></th>\n",
       "      <th>Model</th>\n",
       "      <th>Train_RMSE</th>\n",
       "      <th>Train_MAE</th>\n",
       "      <th>Train_R-squared</th>\n",
       "      <th>Train_Adj. R-squared</th>\n",
       "      <th>Train_MAPE</th>\n",
       "      <th>Test_RMSE</th>\n",
       "      <th>Test_MAE</th>\n",
       "      <th>Test_R-squared</th>\n",
       "      <th>Test_Adj. R-squared</th>\n",
       "      <th>Test_MAPE</th>\n",
       "    </tr>\n",
       "  </thead>\n",
       "  <tbody>\n",
       "    <tr>\n",
       "      <th>0</th>\n",
       "      <td>Linear Regression (sklearn)</td>\n",
       "      <td>8.042600e-02</td>\n",
       "      <td>5.382500e-02</td>\n",
       "      <td>0.996781</td>\n",
       "      <td>0.996777</td>\n",
       "      <td>1.80341</td>\n",
       "      <td>0.082816</td>\n",
       "      <td>0.055542</td>\n",
       "      <td>0.996590</td>\n",
       "      <td>0.996580</td>\n",
       "      <td>1.903541</td>\n",
       "    </tr>\n",
       "    <tr>\n",
       "      <th>1</th>\n",
       "      <td>Linear Regression (statsmodel)</td>\n",
       "      <td>8.043300e-02</td>\n",
       "      <td>5.382900e-02</td>\n",
       "      <td>0.996781</td>\n",
       "      <td>0.996778</td>\n",
       "      <td>Nan</td>\n",
       "      <td>0.082824</td>\n",
       "      <td>0.055533</td>\n",
       "      <td>0.996589</td>\n",
       "      <td>0.996582</td>\n",
       "      <td>Nan</td>\n",
       "    </tr>\n",
       "    <tr>\n",
       "      <th>2</th>\n",
       "      <td>Decision Tree (Base)</td>\n",
       "      <td>2.890309e-16</td>\n",
       "      <td>7.885184e-17</td>\n",
       "      <td>1.000000</td>\n",
       "      <td>1.000000</td>\n",
       "      <td>0.0</td>\n",
       "      <td>0.021546</td>\n",
       "      <td>0.011250</td>\n",
       "      <td>0.999769</td>\n",
       "      <td>0.999768</td>\n",
       "      <td>0.242557</td>\n",
       "    </tr>\n",
       "    <tr>\n",
       "      <th>3</th>\n",
       "      <td>Decision Tree (Pre Pruning)</td>\n",
       "      <td>1.289780e-01</td>\n",
       "      <td>1.019400e-01</td>\n",
       "      <td>0.991722</td>\n",
       "      <td>0.991712</td>\n",
       "      <td>2.762984</td>\n",
       "      <td>0.135317</td>\n",
       "      <td>0.106651</td>\n",
       "      <td>0.990895</td>\n",
       "      <td>0.990868</td>\n",
       "      <td>2.96097</td>\n",
       "    </tr>\n",
       "    <tr>\n",
       "      <th>4</th>\n",
       "      <td>Random Forest</td>\n",
       "      <td>4.695000e-03</td>\n",
       "      <td>2.070000e-03</td>\n",
       "      <td>0.999989</td>\n",
       "      <td>0.999989</td>\n",
       "      <td>0.04826</td>\n",
       "      <td>0.013104</td>\n",
       "      <td>0.005291</td>\n",
       "      <td>0.999915</td>\n",
       "      <td>0.999914</td>\n",
       "      <td>0.128669</td>\n",
       "    </tr>\n",
       "    <tr>\n",
       "      <th>5</th>\n",
       "      <td>Bagging</td>\n",
       "      <td>1.785490e-01</td>\n",
       "      <td>1.485410e-01</td>\n",
       "      <td>0.984137</td>\n",
       "      <td>0.984117</td>\n",
       "      <td>4.295796</td>\n",
       "      <td>0.178773</td>\n",
       "      <td>0.148431</td>\n",
       "      <td>0.984108</td>\n",
       "      <td>0.984062</td>\n",
       "      <td>4.270895</td>\n",
       "    </tr>\n",
       "    <tr>\n",
       "      <th>6</th>\n",
       "      <td>Adaboost</td>\n",
       "      <td>1.785490e-01</td>\n",
       "      <td>1.485410e-01</td>\n",
       "      <td>0.984137</td>\n",
       "      <td>0.984117</td>\n",
       "      <td>4.295796</td>\n",
       "      <td>0.178773</td>\n",
       "      <td>0.148431</td>\n",
       "      <td>0.984108</td>\n",
       "      <td>0.984062</td>\n",
       "      <td>4.270895</td>\n",
       "    </tr>\n",
       "    <tr>\n",
       "      <th>7</th>\n",
       "      <td>Gradient Boosting</td>\n",
       "      <td>2.693400e-02</td>\n",
       "      <td>1.900900e-02</td>\n",
       "      <td>0.999639</td>\n",
       "      <td>0.999639</td>\n",
       "      <td>0.519005</td>\n",
       "      <td>0.028388</td>\n",
       "      <td>0.019859</td>\n",
       "      <td>0.999599</td>\n",
       "      <td>0.999598</td>\n",
       "      <td>0.551321</td>\n",
       "    </tr>\n",
       "    <tr>\n",
       "      <th>8</th>\n",
       "      <td>XG Boost</td>\n",
       "      <td>1.702200e-02</td>\n",
       "      <td>1.080700e-02</td>\n",
       "      <td>0.999856</td>\n",
       "      <td>0.999854</td>\n",
       "      <td>0.26715</td>\n",
       "      <td>0.017022</td>\n",
       "      <td>0.010807</td>\n",
       "      <td>0.999856</td>\n",
       "      <td>0.999854</td>\n",
       "      <td>0.26715</td>\n",
       "    </tr>\n",
       "  </tbody>\n",
       "</table>\n",
       "</div>"
      ],
      "text/plain": [
       "                            Model    Train_RMSE     Train_MAE  \\\n",
       "0     Linear Regression (sklearn)  8.042600e-02  5.382500e-02   \n",
       "1  Linear Regression (statsmodel)  8.043300e-02  5.382900e-02   \n",
       "2            Decision Tree (Base)  2.890309e-16  7.885184e-17   \n",
       "3     Decision Tree (Pre Pruning)  1.289780e-01  1.019400e-01   \n",
       "4                   Random Forest  4.695000e-03  2.070000e-03   \n",
       "5                         Bagging  1.785490e-01  1.485410e-01   \n",
       "6                        Adaboost  1.785490e-01  1.485410e-01   \n",
       "7               Gradient Boosting  2.693400e-02  1.900900e-02   \n",
       "8                        XG Boost  1.702200e-02  1.080700e-02   \n",
       "\n",
       "   Train_R-squared  Train_Adj. R-squared Train_MAPE  Test_RMSE  Test_MAE  \\\n",
       "0         0.996781              0.996777    1.80341   0.082816  0.055542   \n",
       "1         0.996781              0.996778        Nan   0.082824  0.055533   \n",
       "2         1.000000              1.000000        0.0   0.021546  0.011250   \n",
       "3         0.991722              0.991712   2.762984   0.135317  0.106651   \n",
       "4         0.999989              0.999989    0.04826   0.013104  0.005291   \n",
       "5         0.984137              0.984117   4.295796   0.178773  0.148431   \n",
       "6         0.984137              0.984117   4.295796   0.178773  0.148431   \n",
       "7         0.999639              0.999639   0.519005   0.028388  0.019859   \n",
       "8         0.999856              0.999854    0.26715   0.017022  0.010807   \n",
       "\n",
       "   Test_R-squared  Test_Adj. R-squared Test_MAPE  \n",
       "0        0.996590             0.996580  1.903541  \n",
       "1        0.996589             0.996582       Nan  \n",
       "2        0.999769             0.999768  0.242557  \n",
       "3        0.990895             0.990868   2.96097  \n",
       "4        0.999915             0.999914  0.128669  \n",
       "5        0.984108             0.984062  4.270895  \n",
       "6        0.984108             0.984062  4.270895  \n",
       "7        0.999599             0.999598  0.551321  \n",
       "8        0.999856             0.999854   0.26715  "
      ]
     },
     "execution_count": 111,
     "metadata": {},
     "output_type": "execute_result"
    }
   ],
   "source": [
    "# Model Comparison Summary\n",
    "\n",
    "import pandas as pd\n",
    "\n",
    "# Data for the models\n",
    "data = {\n",
    "    'Model': ['Linear Regression (sklearn)', 'Linear Regression (statsmodel)', 'Decision Tree (Base)',\n",
    "              'Decision Tree (Pre Pruning)', 'Random Forest', 'Bagging', 'Adaboost', 'Gradient Boosting', 'XG Boost'],\n",
    "    \n",
    "    'Train_RMSE': [0.080426, 0.080433, 2.890309e-16, 0.128978, 0.004695, 0.178549, 0.178549, 0.026934, 0.017022],\n",
    "    'Train_MAE': [0.053825, 0.053829, 7.885184e-17, 0.10194, 0.00207, 0.148541, 0.148541, 0.019009, 0.010807],\n",
    "    'Train_R-squared': [0.996781, 0.996781, 1.0, 0.991722, 0.999989, 0.984137, 0.984137, 0.999639, 0.999856],\n",
    "    'Train_Adj. R-squared': [0.996777, 0.996778, 1.0, 0.991712, 0.999989, 0.984117, 0.984117, 0.999639, 0.999854],\n",
    "    'Train_MAPE': [1.80341, \"Nan\", 4.320551e-15, 2.762984, 0.04826, 4.295796, 4.295796, 0.519005, 0.26715],\n",
    "    \n",
    "    'Test_RMSE': [0.082816, 0.082824, 0.021546, 0.135317, 0.013104, 0.178773, 0.178773, 0.028388, 0.017022],\n",
    "    'Test_MAE': [0.055542, 0.055533, 0.01125, 0.106651, 0.005291, 0.148431, 0.148431, 0.019859, 0.010807],\n",
    "    'Test_R-squared': [0.99659, 0.996589, 0.999769, 0.990895, 0.999915, 0.984108, 0.984108, 0.999599, 0.999856],\n",
    "    'Test_Adj. R-squared': [0.99658, 0.996582, 0.999768, 0.990868, 0.999914, 0.984062, 0.984062, 0.999598, 0.999854],\n",
    "    'Test_MAPE': [1.903541, \"Nan\", 0.242557, 2.96097, 0.128669, 4.270895, 4.270895, 0.551321, 0.26715]\n",
    "}\n",
    "\n",
    "# Create DataFrame\n",
    "df = pd.DataFrame(data)\n",
    "\n",
    "# Display the comparison summary\n",
    "df"
   ]
  },
  {
   "cell_type": "code",
   "execution_count": 112,
   "id": "50b723e8",
   "metadata": {},
   "outputs": [
    {
     "name": "stdout",
     "output_type": "stream",
     "text": [
      "Model Metrics:\n"
     ]
    },
    {
     "data": {
      "text/html": [
       "<div>\n",
       "<style scoped>\n",
       "    .dataframe tbody tr th:only-of-type {\n",
       "        vertical-align: middle;\n",
       "    }\n",
       "\n",
       "    .dataframe tbody tr th {\n",
       "        vertical-align: top;\n",
       "    }\n",
       "\n",
       "    .dataframe thead th {\n",
       "        text-align: right;\n",
       "    }\n",
       "</style>\n",
       "<table border=\"1\" class=\"dataframe\">\n",
       "  <thead>\n",
       "    <tr style=\"text-align: right;\">\n",
       "      <th></th>\n",
       "      <th>RMSE</th>\n",
       "      <th>MAE</th>\n",
       "      <th>R-squared</th>\n",
       "      <th>Adj. R-squared</th>\n",
       "      <th>MAPE</th>\n",
       "    </tr>\n",
       "  </thead>\n",
       "  <tbody>\n",
       "    <tr>\n",
       "      <th>0</th>\n",
       "      <td>0.00385</td>\n",
       "      <td>0.001581</td>\n",
       "      <td>0.999993</td>\n",
       "      <td>0.999993</td>\n",
       "      <td>0.036334</td>\n",
       "    </tr>\n",
       "  </tbody>\n",
       "</table>\n",
       "</div>"
      ],
      "text/plain": [
       "      RMSE       MAE  R-squared  Adj. R-squared      MAPE\n",
       "0  0.00385  0.001581   0.999993        0.999993  0.036334"
      ]
     },
     "execution_count": 112,
     "metadata": {},
     "output_type": "execute_result"
    }
   ],
   "source": [
    "# Fit the model on the entire dataset\n",
    "rf_regressor.fit(X, y.values.ravel())\n",
    "\n",
    "# Make predictions on the entire dataset\n",
    "y_pred_rf = rf_regressor.predict(X)\n",
    "\n",
    "# Evaluate the model performance\n",
    "print(\"Model Metrics:\")\n",
    "model_performance_regression(rf_regressor, X, y.values.ravel())\n"
   ]
  },
  {
   "cell_type": "code",
   "execution_count": null,
   "id": "600941c6",
   "metadata": {},
   "outputs": [],
   "source": []
  }
 ],
 "metadata": {
  "kernelspec": {
   "display_name": "Python 3 (ipykernel)",
   "language": "python",
   "name": "python3"
  },
  "language_info": {
   "codemirror_mode": {
    "name": "ipython",
    "version": 3
   },
   "file_extension": ".py",
   "mimetype": "text/x-python",
   "name": "python",
   "nbconvert_exporter": "python",
   "pygments_lexer": "ipython3",
   "version": "3.10.9"
  }
 },
 "nbformat": 4,
 "nbformat_minor": 5
}
